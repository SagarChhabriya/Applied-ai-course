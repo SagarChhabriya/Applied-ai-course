{
 "cells": [
  {
   "cell_type": "markdown",
   "metadata": {},
   "source": [
    "# Compute performance metrics for the given Y and Y_score without sklearn"
   ]
  },
  {
   "cell_type": "markdown",
   "metadata": {},
   "source": [
    "   "
   ]
  },
  {
   "cell_type": "markdown",
   "metadata": {},
   "source": [
    "#### Importing the libraries"
   ]
  },
  {
   "cell_type": "code",
   "execution_count": 1,
   "metadata": {},
   "outputs": [],
   "source": [
    "import numpy as np\n",
    "import pandas as pd"
   ]
  },
  {
   "cell_type": "markdown",
   "metadata": {},
   "source": [
    "#### Reading the file"
   ]
  },
  {
   "cell_type": "code",
   "execution_count": 2,
   "metadata": {},
   "outputs": [],
   "source": [
    "df_a=pd.read_csv(\"5_a.csv\")\n",
    "df_b=pd.read_csv(\"5_b.csv\")\n",
    "df_c=pd.read_csv(\"5_c.csv\")\n",
    "df_d=pd.read_csv(\"5_d.csv\")"
   ]
  },
  {
   "cell_type": "markdown",
   "metadata": {},
   "source": [
    "#### Converting probality value to output class label"
   ]
  },
  {
   "cell_type": "code",
   "execution_count": 3,
   "metadata": {},
   "outputs": [],
   "source": [
    "df_a['y_pred']=df_a['proba'].apply(lambda x: 1 if x>=.5 else 0)\n",
    "df_b['y_pred']=df_b['proba'].apply(lambda x: 1 if x>=.5 else 0)"
   ]
  },
  {
   "cell_type": "markdown",
   "metadata": {},
   "source": [
    "##### confusion matrix"
   ]
  },
  {
   "cell_type": "code",
   "execution_count": 4,
   "metadata": {},
   "outputs": [],
   "source": [
    "def confusion_matrix(data):\n",
    "    count_tn=len(data[(data['y']==0) & (data['y_pred']==0)])\n",
    "    count_tp=len(data[(data['y']==1) & (data['y_pred']==1)]) #calculating tn,tp,fn,fp\n",
    "    count_fn=len(data[(data['y']==1) & (data['y_pred']==0)])\n",
    "    count_fp=len(data[(data['y']==0) & (data['y_pred']==1)])\n",
    "    return count_fn,count_fp,count_tn,count_tp"
   ]
  },
  {
   "cell_type": "markdown",
   "metadata": {},
   "source": [
    "#### f1 score\n"
   ]
  },
  {
   "cell_type": "code",
   "execution_count": 5,
   "metadata": {},
   "outputs": [],
   "source": [
    "def f1_score(data):\n",
    "    fn,fp,tn,tp=confusion_matrix(data)\n",
    "    precision=tp/(tp+fp)                    # calculating precision and recall\n",
    "    recall=tp/(tp+fn)                    \n",
    "    f1=2*((precision*recall)/(precision+recall))\n",
    "    return f1"
   ]
  },
  {
   "cell_type": "markdown",
   "metadata": {},
   "source": [
    "#### accuracy value"
   ]
  },
  {
   "cell_type": "code",
   "execution_count": 6,
   "metadata": {},
   "outputs": [],
   "source": [
    "def accuracy(data):\n",
    "    fn,fp,tn,tp=confusion_matrix(data)\n",
    "    acc=((tp+tn)/(tp+fp+fn+tn))          \n",
    "    return acc"
   ]
  },
  {
   "cell_type": "markdown",
   "metadata": {},
   "source": [
    "#### auc value"
   ]
  },
  {
   "cell_type": "code",
   "execution_count": 18,
   "metadata": {},
   "outputs": [],
   "source": [
    "def auc_score(data):\n",
    "    tpr_array=[]\n",
    "    fpr_array=[]\n",
    "    sort= data.sort_values(\"proba\",ascending=False) # sort sart based on probability scores\n",
    "    for i in range(0,len(sort)):\n",
    "        sort['y_pred']=np.where(sort['proba']>=sort.iloc[i]['proba'],1,0) # predicting the y based on each threshold\n",
    "        FN,FP,TN,TP=confusion_matrix(sort)    # for each threshold calculating confusion matrix\n",
    "        fpr_rate=FP/(TN+FP)\n",
    "        tpr_rate=TP/(TP+FN)\n",
    "        tpr_array.append(tpr_rate)\n",
    "        fpr_array.append(fpr_rate)\n",
    "    c=np.trapz(tpr_array, fpr_array)\n",
    "    return c"
   ]
  },
  {
   "cell_type": "markdown",
   "metadata": {},
   "source": [
    "### A.\n",
    "Compute performance metrics for the given data 5_a.csv"
   ]
  },
  {
   "cell_type": "markdown",
   "metadata": {},
   "source": [
    "####          1.confusion matrix of data 5_a.csv"
   ]
  },
  {
   "cell_type": "code",
   "execution_count": 8,
   "metadata": {},
   "outputs": [
    {
     "name": "stdout",
     "output_type": "stream",
     "text": [
      "FALSE NEGATIVE : 0\n",
      "FALSE POSITIVE : 100\n",
      "TRUE NEGATIVE : 0\n",
      "TRUE POSITIVE : 10000\n"
     ]
    }
   ],
   "source": [
    "FN,FP,TN,TP=confusion_matrix(df_a)\n",
    "print(\"FALSE NEGATIVE :\",FN)\n",
    "print(\"FALSE POSITIVE :\",FP)\n",
    "print(\"TRUE NEGATIVE :\",TN)\n",
    "print(\"TRUE POSITIVE :\",TP )"
   ]
  },
  {
   "cell_type": "markdown",
   "metadata": {},
   "source": [
    "####  2.   f1 score of data 5_a.csv "
   ]
  },
  {
   "cell_type": "code",
   "execution_count": 9,
   "metadata": {},
   "outputs": [
    {
     "name": "stdout",
     "output_type": "stream",
     "text": [
      "F1 SCORE : 0.9950248756218906\n"
     ]
    }
   ],
   "source": [
    "f1=f1_score(df_a)\n",
    "print(\"F1 SCORE :\",f1)"
   ]
  },
  {
   "cell_type": "markdown",
   "metadata": {},
   "source": [
    "#### 3.   accuracy value of data 5_a.csv  "
   ]
  },
  {
   "cell_type": "code",
   "execution_count": 10,
   "metadata": {},
   "outputs": [
    {
     "name": "stdout",
     "output_type": "stream",
     "text": [
      "ACCURACY VALUE : 0.9900990099009901\n"
     ]
    }
   ],
   "source": [
    "acc=accuracy(df_a)\n",
    "print('ACCURACY VALUE :',acc)"
   ]
  },
  {
   "cell_type": "markdown",
   "metadata": {},
   "source": [
    "#### 4.   auc value of data 5_a.csv  "
   ]
  },
  {
   "cell_type": "code",
   "execution_count": 21,
   "metadata": {},
   "outputs": [
    {
     "name": "stdout",
     "output_type": "stream",
     "text": [
      "AUC VALUE : 0.48829900000000004\n"
     ]
    }
   ],
   "source": [
    "auc=auc_score(df_a)\n",
    "print('AUC VALUE :',auc)"
   ]
  },
  {
   "cell_type": "markdown",
   "metadata": {},
   "source": [
    "### B.\n",
    "Compute performance metrics for the given data 5_b.csv"
   ]
  },
  {
   "cell_type": "markdown",
   "metadata": {},
   "source": [
    "####          1.confusion matrix of data 5_b.csv"
   ]
  },
  {
   "cell_type": "code",
   "execution_count": 22,
   "metadata": {},
   "outputs": [
    {
     "name": "stdout",
     "output_type": "stream",
     "text": [
      "FALSE NEGATIVE : 45\n",
      "FALSE POSITIVE : 239\n",
      "TRUE NEGATIVE : 9761\n",
      "TRUE POSITIVE : 55\n"
     ]
    }
   ],
   "source": [
    "FN,FP,TN,TP=confusion_matrix(df_b)\n",
    "print(\"FALSE NEGATIVE :\",FN)\n",
    "print(\"FALSE POSITIVE :\",FP)\n",
    "print(\"TRUE NEGATIVE :\",TN)\n",
    "print(\"TRUE POSITIVE :\",TP )"
   ]
  },
  {
   "cell_type": "markdown",
   "metadata": {},
   "source": [
    "####  2.   f1 score of data 5_b.csv "
   ]
  },
  {
   "cell_type": "code",
   "execution_count": 23,
   "metadata": {},
   "outputs": [
    {
     "name": "stdout",
     "output_type": "stream",
     "text": [
      "F1 SCORE : 0.2791878172588833\n"
     ]
    }
   ],
   "source": [
    "f1=f1_score(df_b)\n",
    "print(\"F1 SCORE :\",f1)"
   ]
  },
  {
   "cell_type": "markdown",
   "metadata": {},
   "source": [
    "#### 3.   accuracy value of data 5_b.csv  "
   ]
  },
  {
   "cell_type": "code",
   "execution_count": 24,
   "metadata": {},
   "outputs": [
    {
     "name": "stdout",
     "output_type": "stream",
     "text": [
      "ACCURACY VALUE : 0.9718811881188119\n"
     ]
    }
   ],
   "source": [
    "acc=accuracy(df_b)\n",
    "print('ACCURACY VALUE :',acc)"
   ]
  },
  {
   "cell_type": "markdown",
   "metadata": {},
   "source": [
    "#### 4.   auc value of data 5_b.csv  "
   ]
  },
  {
   "cell_type": "code",
   "execution_count": 30,
   "metadata": {},
   "outputs": [
    {
     "name": "stdout",
     "output_type": "stream",
     "text": [
      "AUC VALUE : 0.9377570000000001\n"
     ]
    }
   ],
   "source": [
    "auc=auc_score(df_b)\n",
    "print(\"AUC VALUE :\",auc)"
   ]
  },
  {
   "cell_type": "markdown",
   "metadata": {},
   "source": [
    "### C."
   ]
  },
  {
   "cell_type": "markdown",
   "metadata": {},
   "source": [
    "#### 1. Compute the best threshold of probability which gives lowest values of metric A for the given data 5_c.csv"
   ]
  },
  {
   "cell_type": "code",
   "execution_count": 26,
   "metadata": {},
   "outputs": [],
   "source": [
    "def best_threshold(data):\n",
    "    check=0\n",
    "    thresh=[]\n",
    "    A=[]\n",
    "    sorted= data.sort_values(\"prob\",ascending=False) # sorting data based on probability\n",
    "    for i in range(0,len(sorted)):\n",
    "        if check==(sorted.iloc[i]['prob']): # checking unique probability\n",
    "            continue\n",
    "        check=sorted.iloc[i]['prob'] \n",
    "        thresh.append(check)\n",
    "        sorted['y_pred']=np.where(sorted['prob']>=sorted.iloc[i]['prob'],1,0)\n",
    "        FN,FP,TN,TP=confusion_matrix(sorted) # calculating confusion matrix for each threshold\n",
    "        value=500*FN+100*FP\n",
    "        A.append(value)  # calculating the metric A\n",
    "    index=A.index(min(A)) # finding the index of A with minimium value\n",
    "    return thresh[index]"
   ]
  },
  {
   "cell_type": "code",
   "execution_count": 27,
   "metadata": {},
   "outputs": [
    {
     "name": "stdout",
     "output_type": "stream",
     "text": [
      "BEST THRESHOLD VALUE : 0.2300390278970873\n"
     ]
    }
   ],
   "source": [
    "best=best_threshold(df_c)\n",
    "print('BEST THRESHOLD VALUE :',best)"
   ]
  },
  {
   "cell_type": "markdown",
   "metadata": {},
   "source": [
    "### D."
   ]
  },
  {
   "cell_type": "markdown",
   "metadata": {},
   "source": [
    "#### Compute performance metrics(for regression) for the given data 5_d.csv"
   ]
  },
  {
   "cell_type": "code",
   "execution_count": 111,
   "metadata": {},
   "outputs": [],
   "source": [
    "def regression_metrics(data):\n",
    "    n=len(data)\n",
    "    data['ei']= data.apply(lambda x: abs(x['y'] - x['pred']), axis=1) # calculating absolute differnce between Y and y^\n",
    "    data['mse']= data['ei'].apply(lambda x: x*x) # calculating the squares of ei\n",
    "    total=data['mse'].sum()\n",
    "    mse=total/n\n",
    "    mape=(data['ei'].sum())/(data['y'].sum())\n",
    "    mean=(data['y'].sum())/n # calculating simple mean of yi's\n",
    "    ssres=data['mse'].sum()\n",
    "    data['sstotal']= data.apply(lambda x: (x['y'] - mean), axis=1)\n",
    "    data['sstotal']= data['sstotal'].apply(lambda x: x*x)\n",
    "    sstotal=data['sstotal'].sum()\n",
    "    rsquared=1-(ssres/sstotal)\n",
    "    return mse,mape,rsquared"
   ]
  },
  {
   "cell_type": "code",
   "execution_count": 115,
   "metadata": {},
   "outputs": [
    {
     "name": "stdout",
     "output_type": "stream",
     "text": [
      "MEAN SQUARED ERROR : 177.16569974554707\n",
      "MEAN ABSOLUTE PERCENTAGE ERROR : 12.91202994009687\n",
      "R SQUARED : 0.9563582786990937\n"
     ]
    }
   ],
   "source": [
    "mse,mape,rsquared=regression_metrics(df_d)\n",
    "print('MEAN SQUARED ERROR :',mse)\n",
    "print('MEAN ABSOLUTE PERCENTAGE ERROR :',mape*100)\n",
    "print('R SQUARED :',rsquared)"
   ]
  }
 ],
 "metadata": {
  "kernelspec": {
   "display_name": "Python 3",
   "language": "python",
   "name": "python3"
  },
  "language_info": {
   "codemirror_mode": {
    "name": "ipython",
    "version": 3
   },
   "file_extension": ".py",
   "mimetype": "text/x-python",
   "name": "python",
   "nbconvert_exporter": "python",
   "pygments_lexer": "ipython3",
   "version": "3.6.5"
  }
 },
 "nbformat": 4,
 "nbformat_minor": 2
}
