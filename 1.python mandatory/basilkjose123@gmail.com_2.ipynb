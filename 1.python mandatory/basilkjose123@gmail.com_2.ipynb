{
 "cells": [
  {
   "cell_type": "markdown",
   "metadata": {},
   "source": [
    "# 1. Product of two matrices."
   ]
  },
  {
   "cell_type": "code",
   "execution_count": 24,
   "metadata": {},
   "outputs": [
    {
     "data": {
      "text/plain": [
       "[[11, 14, 17, 20, 23], [23, 30, 37, 44, 51]]"
      ]
     },
     "execution_count": 24,
     "metadata": {},
     "output_type": "execute_result"
    }
   ],
   "source": [
    "def matrix_mul(a,b):\n",
    "    row1=len(a)\n",
    "    col1=len(a[0])\n",
    "    row2=len(b)\n",
    "    col2=len(b[0])\n",
    "    if col1==row2:\n",
    "        result = [[0 for x in range(col2)] for y in range(row1)]\n",
    "        for i in range (row1):\n",
    "             for j in range (col2):\n",
    "                     for k in range(row2):\n",
    "                            result[i][j] += a[i][k] * b[k][j] \n",
    "        return result\n",
    "    else:\n",
    "         print(\"matrix multiplication is notr possible\")\n",
    "\n",
    "a  = [[1 ,2],\n",
    "      [3 ,4]]\n",
    "b   = [[1 ,2, 3, 4, 5],\n",
    "      [5 ,6 ,7, 8, 9]]      \n",
    "     \n",
    "matrix_mul(a,b)  "
   ]
  },
  {
   "cell_type": "markdown",
   "metadata": {},
   "source": [
    "# 2.  Proportional sampling"
   ]
  },
  {
   "cell_type": "code",
   "execution_count": 25,
   "metadata": {},
   "outputs": [
    {
     "name": "stdout",
     "output_type": "stream",
     "text": [
      "20.0\n",
      "6.0\n",
      "20.0\n",
      "20.0\n",
      "6.0\n",
      "20.0\n",
      "6.0\n",
      "6.0\n",
      "20.0\n",
      "20.0\n",
      "6.0\n",
      "20.0\n",
      "20.0\n",
      "2.0\n",
      "20.0\n",
      "5.8\n",
      "6.0\n",
      "5.8\n",
      "20.0\n",
      "20.0\n",
      "20.0\n",
      "20.0\n",
      "20.0\n",
      "20.0\n",
      "20.0\n",
      "20.0\n",
      "20.0\n",
      "5.8\n",
      "20.0\n",
      "20.0\n",
      "5.8\n",
      "5.8\n",
      "6.0\n",
      "2.0\n",
      "6.0\n",
      "6.0\n",
      "20.0\n",
      "20.0\n",
      "5.8\n",
      "20.0\n",
      "20.0\n",
      "6.0\n",
      "20.0\n",
      "20.0\n",
      "6.0\n",
      "6.0\n",
      "6.0\n",
      "20.0\n",
      "5.8\n",
      "20.0\n",
      "20.0\n",
      "20.0\n",
      "5.8\n",
      "20.0\n",
      "1.2\n",
      "20.0\n",
      "20.0\n",
      "20.0\n",
      "6.0\n",
      "20.0\n",
      "5.8\n",
      "20.0\n",
      "20.0\n",
      "20.0\n",
      "20.0\n",
      "20.0\n",
      "20.0\n",
      "20.0\n",
      "20.0\n",
      "20.0\n",
      "6.0\n",
      "20.0\n",
      "6.0\n",
      "5.8\n",
      "20.0\n",
      "6.0\n",
      "6.0\n",
      "20.0\n",
      "5.8\n",
      "20.0\n",
      "6.0\n",
      "5.8\n",
      "1.2\n",
      "5.8\n",
      "6.0\n",
      "5.8\n",
      "5.8\n",
      "6.0\n",
      "1.2\n",
      "5.8\n",
      "20.0\n",
      "20.0\n",
      "20.0\n",
      "20.0\n",
      "20.0\n",
      "20.0\n",
      "20.0\n",
      "1.2\n",
      "20.0\n",
      "20.0\n"
     ]
    }
   ],
   "source": [
    "from random import uniform\n",
    "a=[2.0,6.0,1.2,5.8,20.0]\n",
    "def pick_a_number_from_list(a):\n",
    "    p=uniform(0,1)\n",
    "    s=sum(a)\n",
    "    b=[]\n",
    "    for i in range(len(a)):\n",
    "        b.append(a[i]/s)\n",
    "    c=[]\n",
    "    for i in range(0,len(a)):\n",
    "        c.append(sum(b[0:(i+1)]))\n",
    "    for j in range(0,len(a)):\n",
    "        if p<=c[j]:\n",
    "            number=a[j]\n",
    "            return number\n",
    "\n",
    "def sampling_based_on_magnitued():\n",
    "    for i in range(0,100):\n",
    "        number = pick_a_number_from_list(a)\n",
    "        print(number)\n",
    "\n",
    "sampling_based_on_magnitued()"
   ]
  },
  {
   "cell_type": "markdown",
   "metadata": {},
   "source": [
    "# 3 .Replace the digits in the string with \"# \""
   ]
  },
  {
   "cell_type": "code",
   "execution_count": 30,
   "metadata": {},
   "outputs": [
    {
     "data": {
      "text/plain": [
       "'####'"
      ]
     },
     "execution_count": 30,
     "metadata": {},
     "output_type": "execute_result"
    }
   ],
   "source": [
    "def replace_digits(input):\n",
    "    count=0\n",
    "    for i in range(len(input)):\n",
    "        if input[i].isdigit():\n",
    "            count=count+1\n",
    "            \n",
    "    if count==0:\n",
    "        return(\"empty string\")\n",
    "    else:\n",
    "        return(count*\"#\")\n",
    "    \n",
    "replace_digits(\"#2a$#b%c%561#\")"
   ]
  },
  {
   "cell_type": "markdown",
   "metadata": {},
   "source": [
    "# 4 . Students marks dashboard"
   ]
  },
  {
   "cell_type": "code",
   "execution_count": 3,
   "metadata": {},
   "outputs": [],
   "source": [
    "def display_dash_board(students, marks):\n",
    "    marklist=[(students[i],marks[i]) for i in range(0,len(marks))]\n",
    "    print(\"-------a-------\")\n",
    "    print(\"\\n\")\n",
    "    marklist.sort(key=lambda x:x[1],reverse=True)\n",
    "    count=0\n",
    "    for a,b in marklist:\n",
    "        print(a,b)\n",
    "        count=count+1\n",
    "        if count==5:\n",
    "            break\n",
    "    print(\"\\n\")        \n",
    "    print(\"-------b-------\")\n",
    "    print(\"\\n\")\n",
    "    count=0\n",
    "    marklist.sort(key=lambda x:x[1],reverse=False)\n",
    "    for a,b in marklist:\n",
    "        print(a,b)\n",
    "        count=count+1\n",
    "        if count==5:\n",
    "            break  \n",
    "    print(\"\\n\")\n",
    "    print(\"-------c-------\")\n",
    "    print(\"\\n\")\n",
    "    for a,b in marklist:\n",
    "        if (b>25) and (b<75):\n",
    "            print(a,b)\n",
    " "
   ]
  },
  {
   "cell_type": "code",
   "execution_count": 4,
   "metadata": {},
   "outputs": [],
   "source": [
    "Students=['student1','student2','student3','student4','student5','student6','student7','student8','student9','student10'] \n",
    "Marks = [45, 78, 12, 14, 48, 43, 47, 98, 35, 80]\n"
   ]
  },
  {
   "cell_type": "code",
   "execution_count": 5,
   "metadata": {},
   "outputs": [
    {
     "name": "stdout",
     "output_type": "stream",
     "text": [
      "-------a-------\n",
      "\n",
      "\n",
      "student8 98\n",
      "student10 80\n",
      "student2 78\n",
      "student5 48\n",
      "student7 47\n",
      "\n",
      "\n",
      "-------b-------\n",
      "\n",
      "\n",
      "student3 12\n",
      "student4 14\n",
      "student9 35\n",
      "student6 43\n",
      "student1 45\n",
      "\n",
      "\n",
      "-------c-------\n",
      "\n",
      "\n",
      "student9 35\n",
      "student6 43\n",
      "student1 45\n",
      "student7 47\n",
      "student5 48\n"
     ]
    }
   ],
   "source": [
    "display_dash_board(Students,Marks)"
   ]
  },
  {
   "cell_type": "markdown",
   "metadata": {},
   "source": [
    "# 5.  Find the closest points"
   ]
  },
  {
   "cell_type": "code",
   "execution_count": 33,
   "metadata": {},
   "outputs": [
    {
     "data": {
      "text/plain": [
       "[(6, -7), (1, -1), (6, 0), (-5, -8), (-1, -1)]"
      ]
     },
     "execution_count": 33,
     "metadata": {},
     "output_type": "execute_result"
    }
   ],
   "source": [
    "import math as m\n",
    "def closest_points_to_p(s,p):\n",
    "    point=[]\n",
    "    for i in s:\n",
    "        c=m.acos(((p[0]*i[0])+(p[1]*i[1]))/(m.sqrt((m.pow(i[0],2))+(m.pow(i[1],2)))*m.sqrt((m.pow(p[0],2)+(m.pow(p[1],2))))))\n",
    "       \n",
    "        point.append(c)\n",
    "    cob=[(s[i],point[i]) for i in range(0,len(point))]\n",
    "    cob.sort(key=lambda x:x[1])\n",
    "    result=[]\n",
    "    for i in range(0,5):\n",
    "        result.append(cob[i][0])\n",
    "    return result    \n",
    "    \n",
    "s= [(1,2),(3,4),(-1,1),(6,-7),(0, 6),(-5,-8),(-1,-1),(6,0),(1,-1)]\n",
    "p= (3,-4)\n",
    "closest_points_to_p(s,p)"
   ]
  },
  {
   "cell_type": "markdown",
   "metadata": {},
   "source": [
    "# 6.Find line which seperate given set of points"
   ]
  },
  {
   "cell_type": "code",
   "execution_count": 28,
   "metadata": {},
   "outputs": [
    {
     "name": "stdout",
     "output_type": "stream",
     "text": [
      "yes\n",
      "no\n",
      "no\n",
      "yes\n"
     ]
    }
   ],
   "source": [
    "import re\n",
    "def i_am_the_one(red,blue,lines):\n",
    "   \n",
    "    for i in lines:\n",
    "        b=[]\n",
    "        r=[]\n",
    "        z = re.findall(r'[\\d\\.\\-\\+]+', i)\n",
    "        for a in blue:\n",
    "            c=(float(z[0])*a[0])+(float(z[1])*a[1])+float(z[2])\n",
    "            if c>0:\n",
    "                b.append(1)\n",
    "            else:\n",
    "                b.append(0)\n",
    "        lr=len(set(b))       \n",
    "        for a in red:\n",
    "            c=(float(z[0])*a[0])+(float(z[1])*a[1])+float(z[2])\n",
    "            if c>0:\n",
    "                r.append(1)\n",
    "            else:\n",
    "                r.append(0)        \n",
    "        lb=len(set(r))\n",
    "    \n",
    "        if(lr==1 and lb==1):\n",
    "            print(\"yes\")\n",
    "        else:\n",
    "            print(\"no\")\n",
    "        \n",
    "red = [(1,1),(2,1),(4,2),(2,4), (-1,4)]\n",
    "blue= [(-2,-1),(-1,-2),(-3,-2),(-3,-1),(1,-3)]\n",
    "lines=[\"1x+1y+0\",\"1x-1y+0\",\"1x+0y-3\",\"0x+1y-0.5\"]\n",
    "i_am_the_one(red,blue,lines)"
   ]
  },
  {
   "cell_type": "markdown",
   "metadata": {},
   "source": [
    "# 7. Filling the missing values in the specified format"
   ]
  },
  {
   "cell_type": "code",
   "execution_count": 34,
   "metadata": {},
   "outputs": [
    {
     "data": {
      "text/plain": [
       "[6.0, 6.0, 6.0, 6.0]"
      ]
     },
     "execution_count": 34,
     "metadata": {},
     "output_type": "execute_result"
    }
   ],
   "source": [
    "def blanks(s):\n",
    "    a=s.split(\",\")\n",
    "    l=len(a)\n",
    "    if a[0]==\"_\":\n",
    "        a[0]=\"0\"      # converting 3 cases into single case\n",
    "    if a[l-1]==\"_\":\n",
    "        a[l-1]=\"0\"\n",
    "    first=a[0]\n",
    "    start=1\n",
    "    for i in range(start,l):\n",
    "        if a[i]!=\"_\":\n",
    "            k=i\n",
    "            for j in range(start-1,k+1) :\n",
    "                a[j]=(int(first)+int(a[i]))/int((k-start+2))\n",
    "            start=k+1\n",
    "            first=a[k]\n",
    "    return(a)\n",
    "\n",
    "blanks( \"_,_,_,24\") "
   ]
  },
  {
   "cell_type": "code",
   "execution_count": 146,
   "metadata": {},
   "outputs": [
    {
     "data": {
      "text/plain": [
       "[20.0, 20.0, 20.0, 20.0, 20.0]"
      ]
     },
     "execution_count": 146,
     "metadata": {},
     "output_type": "execute_result"
    }
   ],
   "source": [
    "blanks(\"40,_,_,_,60\")"
   ]
  },
  {
   "cell_type": "code",
   "execution_count": 147,
   "metadata": {},
   "outputs": [
    {
     "data": {
      "text/plain": [
       "[16.0, 16.0, 16.0, 16.0, 16.0]"
      ]
     },
     "execution_count": 147,
     "metadata": {},
     "output_type": "execute_result"
    }
   ],
   "source": [
    "blanks(\"80,_,_,_,_\")\n"
   ]
  },
  {
   "cell_type": "code",
   "execution_count": 148,
   "metadata": {},
   "outputs": [
    {
     "data": {
      "text/plain": [
       "[10.0, 10.0, 12.0, 12.0, 12.0, 12.0, 4.0, 4.0, 4.0]"
      ]
     },
     "execution_count": 148,
     "metadata": {},
     "output_type": "execute_result"
    }
   ],
   "source": [
    "blanks(\"_,_,30,_,_,_,50,_,_\")"
   ]
  },
  {
   "cell_type": "markdown",
   "metadata": {},
   "source": [
    "# 8. Conditional probability"
   ]
  },
  {
   "cell_type": "code",
   "execution_count": 35,
   "metadata": {},
   "outputs": [
    {
     "name": "stdout",
     "output_type": "stream",
     "text": [
      " _ _ _ _ _ _ _ _ _ _ _ _ _ _ _ _ _\n",
      "\n",
      "\n",
      "probability of p(F=F1|S=S2) =  0.3333333333333333\n",
      "probability of p(F=F1|S=S1) =  0.25\n",
      "probability of p(F=F1|S=S3) =  0.0\n",
      " _ _ _ _ _ _ _ _ _ _ _ _ _ _ _ _ _\n",
      "\n",
      "\n",
      "probability of p(F=F2|S=S2) =  0.3333333333333333\n",
      "probability of p(F=F2|S=S1) =  0.25\n",
      "probability of p(F=F2|S=S3) =  0.3333333333333333\n",
      " _ _ _ _ _ _ _ _ _ _ _ _ _ _ _ _ _\n",
      "\n",
      "\n",
      "probability of p(F=F3|S=S2) =  0.3333333333333333\n",
      "probability of p(F=F3|S=S1) =  0.0\n",
      "probability of p(F=F3|S=S3) =  0.3333333333333333\n",
      " _ _ _ _ _ _ _ _ _ _ _ _ _ _ _ _ _\n",
      "\n",
      "\n",
      "probability of p(F=F1|S=S2) =  0.3333333333333333\n",
      "probability of p(F=F1|S=S1) =  0.25\n",
      "probability of p(F=F1|S=S3) =  0.0\n",
      " _ _ _ _ _ _ _ _ _ _ _ _ _ _ _ _ _\n",
      "\n",
      "\n",
      "probability of p(F=F2|S=S2) =  0.3333333333333333\n",
      "probability of p(F=F2|S=S1) =  0.25\n",
      "probability of p(F=F2|S=S3) =  0.3333333333333333\n",
      " _ _ _ _ _ _ _ _ _ _ _ _ _ _ _ _ _\n",
      "\n",
      "\n",
      "probability of p(F=F3|S=S2) =  0.3333333333333333\n",
      "probability of p(F=F3|S=S1) =  0.0\n",
      "probability of p(F=F3|S=S3) =  0.3333333333333333\n",
      " _ _ _ _ _ _ _ _ _ _ _ _ _ _ _ _ _\n",
      "\n",
      "\n",
      "probability of p(F=F2|S=S2) =  0.3333333333333333\n",
      "probability of p(F=F2|S=S1) =  0.25\n",
      "probability of p(F=F2|S=S3) =  0.3333333333333333\n",
      " _ _ _ _ _ _ _ _ _ _ _ _ _ _ _ _ _\n",
      "\n",
      "\n",
      "probability of p(F=F4|S=S2) =  0.0\n",
      "probability of p(F=F4|S=S1) =  0.25\n",
      "probability of p(F=F4|S=S3) =  0.3333333333333333\n",
      " _ _ _ _ _ _ _ _ _ _ _ _ _ _ _ _ _\n",
      "\n",
      "\n",
      "probability of p(F=F4|S=S2) =  0.0\n",
      "probability of p(F=F4|S=S1) =  0.25\n",
      "probability of p(F=F4|S=S3) =  0.3333333333333333\n",
      " _ _ _ _ _ _ _ _ _ _ _ _ _ _ _ _ _\n",
      "\n",
      "\n",
      "probability of p(F=F5|S=S2) =  0.0\n",
      "probability of p(F=F5|S=S1) =  0.25\n",
      "probability of p(F=F5|S=S3) =  0.0\n"
     ]
    }
   ],
   "source": [
    "def compute_conditional_probabilites(a):\n",
    "    f=[]\n",
    "    s=[]\n",
    "    m=[]\n",
    "    for i in a:\n",
    "        f.append(i[0])\n",
    "        s.append((i[1]))\n",
    "    s=set(s)\n",
    "    s=list(s)\n",
    "    for k in f:\n",
    "        for j in range (0,len(s)):\n",
    "            m.append(k+s[j])\n",
    "        mydict1 = {k:0 for k in m}\n",
    "    for k in s:\n",
    "        mydict2={k:0 for k in s}\n",
    "       \n",
    "    for i in range(len(a)):\n",
    "        k = a[i][0] + a[i][1]    # I REFFERED THESE BLOCK OF STATEMENT FROM STACKOVERFLOW\n",
    "        mydict1[k] += 1          #https://stackoverflow.com/questions/57160252/find-conditional-probabilities-using-python\n",
    "        mydict2[a[i][1]] += 1\n",
    "    \n",
    "\n",
    "    for i in f:\n",
    "        print(\" _ _ _ _ _ _ _ _ _ _ _ _ _ _ _ _ _\")\n",
    "        print(\"\\n\")\n",
    "        for j in s:\n",
    "            print(\"probability of p(F=%s|S=%s) = \"%(i,j),(mydict1[str(i+j)]/mydict2[j]))\n",
    "            \n",
    "a = [['F1', 'S1'], ['F2', 'S2'], ['F3', 'S3'], ['F1', 'S2'], ['F2', 'S3'], ['F3', 'S2'], ['F2', 'S1'], ['F4', 'S1'], ['F4', 'S3'], ['F5', 'S1']]\n",
    "compute_conditional_probabilites(a) "
   ]
  },
  {
   "cell_type": "markdown",
   "metadata": {},
   "source": [
    "# 9 .Operations on sentences "
   ]
  },
  {
   "cell_type": "code",
   "execution_count": 36,
   "metadata": {},
   "outputs": [
    {
     "name": "stdout",
     "output_type": "stream",
     "text": [
      "7\n",
      "['F', 'first', '5']\n",
      "['S', 'second', '3']\n"
     ]
    }
   ],
   "source": [
    "def string_features(s1, s2):\n",
    "    set1=set(s1.split())\n",
    "    set2=set(s2.split())\n",
    "    a=len(set1&set2)\n",
    "    b=list(set1-set2)\n",
    "    c=list(set2-set1)\n",
    "    return a,b,c\n",
    "\n",
    "s1= \"the first column F will contain only 5 uniques values\"\n",
    "s2= \"the second column S will contain only 3 uniques values\"\n",
    "a,b,c=string_features(s1, s2)\n",
    "print(a)\n",
    "print(b)\n",
    "print(c)\n"
   ]
  },
  {
   "cell_type": "markdown",
   "metadata": {},
   "source": [
    "# 10 . Error function"
   ]
  },
  {
   "cell_type": "code",
   "execution_count": 38,
   "metadata": {},
   "outputs": [
    {
     "data": {
      "text/plain": [
       "0.42430993457031635"
      ]
     },
     "execution_count": 38,
     "metadata": {},
     "output_type": "execute_result"
    }
   ],
   "source": [
    "import math as m\n",
    "def compute_log_loss(a):\n",
    "    sum=0\n",
    "    for s in a:\n",
    "        sum=sum+(s[0]*m.log10(s[1])+((1-s[0])*m.log10(1-s[1])))\n",
    "    return (sum/-len(a))\n",
    "\n",
    "a= [[1, 0.4], [0, 0.5], [0, 0.9], [0, 0.3], [0, 0.6], [1, 0.1], [1, 0.9], [1, 0.8]]\n",
    "compute_log_loss(a)"
   ]
  }
 ],
 "metadata": {
  "kernelspec": {
   "display_name": "Python 3",
   "language": "python",
   "name": "python3"
  },
  "language_info": {
   "codemirror_mode": {
    "name": "ipython",
    "version": 3
   },
   "file_extension": ".py",
   "mimetype": "text/x-python",
   "name": "python",
   "nbconvert_exporter": "python",
   "pygments_lexer": "ipython3",
   "version": "3.6.5"
  }
 },
 "nbformat": 4,
 "nbformat_minor": 2
}
