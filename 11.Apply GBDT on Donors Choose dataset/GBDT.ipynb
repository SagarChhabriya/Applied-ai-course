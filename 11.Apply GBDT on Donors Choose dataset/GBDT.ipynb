{
  "nbformat": 4,
  "nbformat_minor": 0,
  "metadata": {
    "colab": {
      "name": "gbdt.ipynb",
      "provenance": [],
      "collapsed_sections": []
    },
    "kernelspec": {
      "name": "python3",
      "display_name": "Python 3"
    },
    "accelerator": "GPU"
  },
  "cells": [
    {
      "cell_type": "markdown",
      "metadata": {
        "id": "Tu9Oe3h0YSG_",
        "colab_type": "text"
      },
      "source": [
        "<h1 align=\"center\"> Decision Trees on Donors Choose dataset</h1> \n"
      ]
    },
    {
      "cell_type": "markdown",
      "metadata": {
        "id": "TPIGaWo9Yb2d",
        "colab_type": "text"
      },
      "source": [
        "### Importing Libraries"
      ]
    },
    {
      "cell_type": "code",
      "metadata": {
        "id": "4CXgoYoqX9hc",
        "colab_type": "code",
        "outputId": "2027fb88-8d10-46e3-f75a-4468fabd529c",
        "colab": {
          "base_uri": "https://localhost:8080/",
          "height": 34
        }
      },
      "source": [
        "%matplotlib inline\n",
        "import warnings\n",
        "warnings.filterwarnings(\"ignore\")\n",
        "\n",
        "import pandas as pd\n",
        "import numpy as np\n",
        "import math as m\n",
        "import matplotlib.pyplot as plt\n",
        "import seaborn as sns\n",
        "import nltk\n",
        "import re\n",
        "from scipy import sparse\n",
        "from sklearn.feature_extraction.text import TfidfVectorizer\n",
        "from sklearn.feature_extraction.text import CountVectorizer\n",
        "from sklearn.preprocessing import Normalizer\n",
        "from sklearn.metrics import confusion_matrix\n",
        "from sklearn.model_selection import train_test_split\n",
        "from sklearn import metrics\n",
        "from sklearn.metrics import roc_curve, auc\n",
        "from tqdm import tqdm\n",
        "\n",
        "import nltk\n",
        "nltk.download('vader_lexicon')\n",
        "from nltk.sentiment.vader import SentimentIntensityAnalyzer\n",
        "sid = SentimentIntensityAnalyzer()"
      ],
      "execution_count": 1,
      "outputs": [
        {
          "output_type": "stream",
          "text": [
            "[nltk_data] Downloading package vader_lexicon to /root/nltk_data...\n"
          ],
          "name": "stdout"
        }
      ]
    },
    {
      "cell_type": "code",
      "metadata": {
        "id": "Mvu2IRcVswxW",
        "colab_type": "code",
        "outputId": "f9050329-a08b-4543-de30-e1d83b30f0e2",
        "colab": {
          "base_uri": "https://localhost:8080/",
          "height": 34
        }
      },
      "source": [
        "import tensorflow as tf\n",
        "tf.test.gpu_device_name()"
      ],
      "execution_count": 2,
      "outputs": [
        {
          "output_type": "execute_result",
          "data": {
            "text/plain": [
              "'/device:GPU:0'"
            ]
          },
          "metadata": {
            "tags": []
          },
          "execution_count": 2
        }
      ]
    },
    {
      "cell_type": "markdown",
      "metadata": {
        "id": "v44wC--jYk3v",
        "colab_type": "text"
      },
      "source": [
        "###  Importing Dataset"
      ]
    },
    {
      "cell_type": "code",
      "metadata": {
        "id": "pRHHI9dKX9sA",
        "colab_type": "code",
        "outputId": "c6df746c-74f3-4c12-9f00-e5031f7a7864",
        "colab": {
          "base_uri": "https://localhost:8080/",
          "height": 232
        }
      },
      "source": [
        "!wget --header=\"Host: doc-14-3k-docs.googleusercontent.com\" --header=\"User-Agent: Mozilla/5.0 (Windows NT 10.0; Win64; x64) AppleWebKit/537.36 (KHTML, like Gecko) Chrome/80.0.3987.163 Safari/537.36\" --header=\"Accept: text/html,application/xhtml+xml,application/xml;q=0.9,image/webp,image/apng,*/*;q=0.8,application/signed-exchange;v=b3;q=0.9\" --header=\"Accept-Language: en-GB,en-US;q=0.9,en;q=0.8\" --header=\"Referer: https://drive.google.com/drive/folders/1Z9rSTNsSLyXeNI33KT9O42omfVl8AFWQ\" --header=\"Cookie: AUTH_jpmdkrjqjlv7hqosjk23cpcg9ifqbrgq_nonce=n1kem9jsfroba\" --header=\"Connection: keep-alive\" \"https://doc-14-3k-docs.googleusercontent.com/docs/securesc/8h8uvuh5ifib89027b7ihknt22nu5vgc/t7va9bgvmpo50k1actnt4qtpenckrn6g/1587475725000/00484516897554883881/05866892802988797180/1GU3LIJJ3zS1xLXXe-sdItSJHtI5txjVO?e=download&authuser=0&nonce=n1kem9jsfroba&user=05866892802988797180&hash=52na0kdlokv88v5r8oe0k3796nblteim\" -c -O 'preprocessed_data.csv'"
      ],
      "execution_count": 9,
      "outputs": [
        {
          "output_type": "stream",
          "text": [
            "--2020-04-21 13:29:17--  https://doc-14-3k-docs.googleusercontent.com/docs/securesc/8h8uvuh5ifib89027b7ihknt22nu5vgc/t7va9bgvmpo50k1actnt4qtpenckrn6g/1587475725000/00484516897554883881/05866892802988797180/1GU3LIJJ3zS1xLXXe-sdItSJHtI5txjVO?e=download&authuser=0&nonce=n1kem9jsfroba&user=05866892802988797180&hash=52na0kdlokv88v5r8oe0k3796nblteim\n",
            "Resolving doc-14-3k-docs.googleusercontent.com (doc-14-3k-docs.googleusercontent.com)... 64.233.167.132, 2a00:1450:400c:c0a::84\n",
            "Connecting to doc-14-3k-docs.googleusercontent.com (doc-14-3k-docs.googleusercontent.com)|64.233.167.132|:443... connected.\n",
            "HTTP request sent, awaiting response... 200 OK\n",
            "Length: unspecified [text/csv]\n",
            "Saving to: ‘preprocessed_data.csv’\n",
            "\n",
            "preprocessed_data.c     [        <=>         ] 118.69M  52.3MB/s    in 2.3s    \n",
            "\n",
            "2020-04-21 13:29:20 (52.3 MB/s) - ‘preprocessed_data.csv’ saved [124454659]\n",
            "\n"
          ],
          "name": "stdout"
        }
      ]
    },
    {
      "cell_type": "code",
      "metadata": {
        "id": "z8k8R32Yceh8",
        "colab_type": "code",
        "colab": {}
      },
      "source": [
        "data = pd.read_csv('preprocessed_data.csv')"
      ],
      "execution_count": 0,
      "outputs": []
    },
    {
      "cell_type": "code",
      "metadata": {
        "id": "1z6AQSkMcelq",
        "colab_type": "code",
        "outputId": "1fce7588-a78f-4db6-fba0-f17f9580f502",
        "colab": {
          "base_uri": "https://localhost:8080/",
          "height": 241
        }
      },
      "source": [
        "data.head(2)"
      ],
      "execution_count": 11,
      "outputs": [
        {
          "output_type": "execute_result",
          "data": {
            "text/html": [
              "<div>\n",
              "<style scoped>\n",
              "    .dataframe tbody tr th:only-of-type {\n",
              "        vertical-align: middle;\n",
              "    }\n",
              "\n",
              "    .dataframe tbody tr th {\n",
              "        vertical-align: top;\n",
              "    }\n",
              "\n",
              "    .dataframe thead th {\n",
              "        text-align: right;\n",
              "    }\n",
              "</style>\n",
              "<table border=\"1\" class=\"dataframe\">\n",
              "  <thead>\n",
              "    <tr style=\"text-align: right;\">\n",
              "      <th></th>\n",
              "      <th>school_state</th>\n",
              "      <th>teacher_prefix</th>\n",
              "      <th>project_grade_category</th>\n",
              "      <th>teacher_number_of_previously_posted_projects</th>\n",
              "      <th>project_is_approved</th>\n",
              "      <th>clean_categories</th>\n",
              "      <th>clean_subcategories</th>\n",
              "      <th>essay</th>\n",
              "      <th>price</th>\n",
              "    </tr>\n",
              "  </thead>\n",
              "  <tbody>\n",
              "    <tr>\n",
              "      <th>0</th>\n",
              "      <td>ca</td>\n",
              "      <td>mrs</td>\n",
              "      <td>grades_prek_2</td>\n",
              "      <td>53</td>\n",
              "      <td>1</td>\n",
              "      <td>math_science</td>\n",
              "      <td>appliedsciences health_lifescience</td>\n",
              "      <td>i fortunate enough use fairy tale stem kits cl...</td>\n",
              "      <td>725.05</td>\n",
              "    </tr>\n",
              "    <tr>\n",
              "      <th>1</th>\n",
              "      <td>ut</td>\n",
              "      <td>ms</td>\n",
              "      <td>grades_3_5</td>\n",
              "      <td>4</td>\n",
              "      <td>1</td>\n",
              "      <td>specialneeds</td>\n",
              "      <td>specialneeds</td>\n",
              "      <td>imagine 8 9 years old you third grade classroo...</td>\n",
              "      <td>213.03</td>\n",
              "    </tr>\n",
              "  </tbody>\n",
              "</table>\n",
              "</div>"
            ],
            "text/plain": [
              "  school_state  ...   price\n",
              "0           ca  ...  725.05\n",
              "1           ut  ...  213.03\n",
              "\n",
              "[2 rows x 9 columns]"
            ]
          },
          "metadata": {
            "tags": []
          },
          "execution_count": 11
        }
      ]
    },
    {
      "cell_type": "code",
      "metadata": {
        "id": "JXmsOgdocepR",
        "colab_type": "code",
        "colab": {}
      },
      "source": [
        "negative = []\n",
        "positive = []\n",
        "neutral = []\n",
        "compound = []\n",
        "\n",
        "def update_sentiments(values):\n",
        "    negative.append(values[\"neg\"])    \n",
        "    positive.append(values[\"pos\"])\n",
        "    neutral.append(values[\"neu\"])\n",
        "    compound.append(values[\"compound\"])"
      ],
      "execution_count": 0,
      "outputs": []
    },
    {
      "cell_type": "code",
      "metadata": {
        "id": "qAt77EitcqC1",
        "colab_type": "code",
        "outputId": "b0ab96fc-cc1c-4aaf-af91-b79fca878f14",
        "colab": {
          "base_uri": "https://localhost:8080/",
          "height": 34
        }
      },
      "source": [
        "from tqdm import tqdm\n",
        "for essay in tqdm(data[\"essay\"]):\n",
        "    update_sentiments(sid.polarity_scores(essay))"
      ],
      "execution_count": 13,
      "outputs": [
        {
          "output_type": "stream",
          "text": [
            "100%|██████████| 109248/109248 [03:27<00:00, 526.52it/s]\n"
          ],
          "name": "stderr"
        }
      ]
    },
    {
      "cell_type": "code",
      "metadata": {
        "id": "uj6KTi88cstM",
        "colab_type": "code",
        "colab": {}
      },
      "source": [
        "data[\"neg\"] = negative\n",
        "data[\"pos\"] = positive\n",
        "data[\"neu\"] = neutral        # adding new features to dataset based on  Sentiment Intensity Analyzer\n",
        "data[\"compound\"] = compound"
      ],
      "execution_count": 0,
      "outputs": []
    },
    {
      "cell_type": "code",
      "metadata": {
        "id": "ptLKZEebddu9",
        "colab_type": "code",
        "outputId": "aae72749-740b-4b4a-e9a0-365d9ab09d82",
        "colab": {
          "base_uri": "https://localhost:8080/",
          "height": 197
        }
      },
      "source": [
        "data.head(1)"
      ],
      "execution_count": 15,
      "outputs": [
        {
          "output_type": "execute_result",
          "data": {
            "text/html": [
              "<div>\n",
              "<style scoped>\n",
              "    .dataframe tbody tr th:only-of-type {\n",
              "        vertical-align: middle;\n",
              "    }\n",
              "\n",
              "    .dataframe tbody tr th {\n",
              "        vertical-align: top;\n",
              "    }\n",
              "\n",
              "    .dataframe thead th {\n",
              "        text-align: right;\n",
              "    }\n",
              "</style>\n",
              "<table border=\"1\" class=\"dataframe\">\n",
              "  <thead>\n",
              "    <tr style=\"text-align: right;\">\n",
              "      <th></th>\n",
              "      <th>school_state</th>\n",
              "      <th>teacher_prefix</th>\n",
              "      <th>project_grade_category</th>\n",
              "      <th>teacher_number_of_previously_posted_projects</th>\n",
              "      <th>project_is_approved</th>\n",
              "      <th>clean_categories</th>\n",
              "      <th>clean_subcategories</th>\n",
              "      <th>essay</th>\n",
              "      <th>price</th>\n",
              "      <th>neg</th>\n",
              "      <th>pos</th>\n",
              "      <th>neu</th>\n",
              "      <th>compound</th>\n",
              "    </tr>\n",
              "  </thead>\n",
              "  <tbody>\n",
              "    <tr>\n",
              "      <th>0</th>\n",
              "      <td>ca</td>\n",
              "      <td>mrs</td>\n",
              "      <td>grades_prek_2</td>\n",
              "      <td>53</td>\n",
              "      <td>1</td>\n",
              "      <td>math_science</td>\n",
              "      <td>appliedsciences health_lifescience</td>\n",
              "      <td>i fortunate enough use fairy tale stem kits cl...</td>\n",
              "      <td>725.05</td>\n",
              "      <td>0.013</td>\n",
              "      <td>0.205</td>\n",
              "      <td>0.783</td>\n",
              "      <td>0.9867</td>\n",
              "    </tr>\n",
              "  </tbody>\n",
              "</table>\n",
              "</div>"
            ],
            "text/plain": [
              "  school_state teacher_prefix project_grade_category  ...    pos    neu compound\n",
              "0           ca            mrs          grades_prek_2  ...  0.205  0.783   0.9867\n",
              "\n",
              "[1 rows x 13 columns]"
            ]
          },
          "metadata": {
            "tags": []
          },
          "execution_count": 15
        }
      ]
    },
    {
      "cell_type": "markdown",
      "metadata": {
        "id": "uSdrF0x6dtaY",
        "colab_type": "text"
      },
      "source": [
        "###   Splitting Data Into Train And Cross Validation(or test): Stratified Sampling"
      ]
    },
    {
      "cell_type": "code",
      "metadata": {
        "id": "TZUqFnU6dd-G",
        "colab_type": "code",
        "colab": {}
      },
      "source": [
        "y = data['project_is_approved'].values\n",
        "X = data.drop(['project_is_approved'], axis=1)\n"
      ],
      "execution_count": 0,
      "outputs": []
    },
    {
      "cell_type": "code",
      "metadata": {
        "id": "xaxp7i0gdeBo",
        "colab_type": "code",
        "colab": {}
      },
      "source": [
        "X_train, X_test, y_train, y_test = train_test_split(X, y, test_size=0.33, stratify=y,random_state=42) "
      ],
      "execution_count": 0,
      "outputs": []
    },
    {
      "cell_type": "code",
      "metadata": {
        "id": "F4OlsiDfdeJh",
        "colab_type": "code",
        "outputId": "8d363f48-a624-4f42-a568-886b7da9a10c",
        "colab": {
          "base_uri": "https://localhost:8080/",
          "height": 52
        }
      },
      "source": [
        "print(\"Total data points in Train Dataset =\",len(y_train))\n",
        "print(\"Total data points in Test Dataset =\",len(y_test))"
      ],
      "execution_count": 18,
      "outputs": [
        {
          "output_type": "stream",
          "text": [
            "Total data points in Train Dataset = 73196\n",
            "Total data points in Test Dataset = 36052\n"
          ],
          "name": "stdout"
        }
      ]
    },
    {
      "cell_type": "markdown",
      "metadata": {
        "id": "cNHb6bZqd8Gs",
        "colab_type": "text"
      },
      "source": [
        "###  Make Data Model Ready: Encoding Eassay(text feature)"
      ]
    },
    {
      "cell_type": "markdown",
      "metadata": {
        "id": "hy69Q45geCWm",
        "colab_type": "text"
      },
      "source": [
        "######  TFIDF Vectorizer"
      ]
    },
    {
      "cell_type": "code",
      "metadata": {
        "id": "PaBQpoPTeIv8",
        "colab_type": "code",
        "outputId": "b6db6f6b-79a4-43a8-a289-02fa64425935",
        "colab": {
          "base_uri": "https://localhost:8080/",
          "height": 87
        }
      },
      "source": [
        "tfidfvectorizer = TfidfVectorizer(min_df=10,max_features=5000)\n",
        "text_tfidf = tfidfvectorizer.fit(X_train['essay'].values) #fitting\n",
        "\n",
        "X_train_essay_tfidf =tfidfvectorizer.transform(X_train['essay'].values) \n",
        "X_test_essay_tfidf =tfidfvectorizer.transform(X_test['essay'].values)   # transform\n",
        "\n",
        "print(\"After vectorizations\")\n",
        "print(X_train_essay_tfidf.shape, y_train.shape)\n",
        "print(X_test_essay_tfidf.shape, y_test.shape)\n",
        "print(\"=\"*40)"
      ],
      "execution_count": 0,
      "outputs": [
        {
          "output_type": "stream",
          "text": [
            "After vectorizations\n",
            "(73196, 5000) (73196,)\n",
            "(36052, 5000) (36052,)\n",
            "========================================\n"
          ],
          "name": "stdout"
        }
      ]
    },
    {
      "cell_type": "markdown",
      "metadata": {
        "id": "Kvt6XZS3ePeN",
        "colab_type": "text"
      },
      "source": [
        "####  TFIDF W2V"
      ]
    },
    {
      "cell_type": "code",
      "metadata": {
        "id": "f7g8IvsveEl0",
        "colab_type": "code",
        "outputId": "17b79452-d3ff-4949-814d-07a7ec5dbdcf",
        "colab": {
          "base_uri": "https://localhost:8080/",
          "height": 232
        }
      },
      "source": [
        "!wget --header=\"Host: doc-10-3k-docs.googleusercontent.com\" --header=\"User-Agent: Mozilla/5.0 (Windows NT 10.0; Win64; x64) AppleWebKit/537.36 (KHTML, like Gecko) Chrome/80.0.3987.163 Safari/537.36\" --header=\"Accept: text/html,application/xhtml+xml,application/xml;q=0.9,image/webp,image/apng,*/*;q=0.8,application/signed-exchange;v=b3;q=0.9\" --header=\"Accept-Language: en-GB,en-US;q=0.9,en;q=0.8\" --header=\"Referer: https://drive.google.com/drive/folders/1Z9rSTNsSLyXeNI33KT9O42omfVl8AFWQ\" --header=\"Cookie: AUTH_jpmdkrjqjlv7hqosjk23cpcg9ifqbrgq_nonce=uaih9emd25nk6\" --header=\"Connection: keep-alive\" \"https://doc-10-3k-docs.googleusercontent.com/docs/securesc/8h8uvuh5ifib89027b7ihknt22nu5vgc/t30frjril2s6r6rt84jvdfcc5im19uck/1587476025000/00484516897554883881/05866892802988797180/1zJbDcbwvM2ueudqJHPpOb3Z9V2QrGd2r?e=download&authuser=0&nonce=uaih9emd25nk6&user=05866892802988797180&hash=939k2qd0inucqnck97ei14sqtt2c7if3\" -c -O 'glove_vectors'"
      ],
      "execution_count": 20,
      "outputs": [
        {
          "output_type": "stream",
          "text": [
            "--2020-04-21 13:34:26--  https://doc-10-3k-docs.googleusercontent.com/docs/securesc/8h8uvuh5ifib89027b7ihknt22nu5vgc/t30frjril2s6r6rt84jvdfcc5im19uck/1587476025000/00484516897554883881/05866892802988797180/1zJbDcbwvM2ueudqJHPpOb3Z9V2QrGd2r?e=download&authuser=0&nonce=uaih9emd25nk6&user=05866892802988797180&hash=939k2qd0inucqnck97ei14sqtt2c7if3\n",
            "Resolving doc-10-3k-docs.googleusercontent.com (doc-10-3k-docs.googleusercontent.com)... 64.233.167.132, 2a00:1450:400c:c0a::84\n",
            "Connecting to doc-10-3k-docs.googleusercontent.com (doc-10-3k-docs.googleusercontent.com)|64.233.167.132|:443... connected.\n",
            "HTTP request sent, awaiting response... 200 OK\n",
            "Length: unspecified [application/octet-stream]\n",
            "Saving to: ‘glove_vectors’\n",
            "\n",
            "glove_vectors           [      <=>           ] 121.60M  46.6MB/s    in 2.6s    \n",
            "\n",
            "2020-04-21 13:34:29 (46.6 MB/s) - ‘glove_vectors’ saved [127506004]\n",
            "\n"
          ],
          "name": "stdout"
        }
      ]
    },
    {
      "cell_type": "code",
      "metadata": {
        "id": "NFtJNDq_edFI",
        "colab_type": "code",
        "colab": {}
      },
      "source": [
        "import pickle\n",
        "with open('glove_vectors', 'rb') as f:\n",
        "    model = pickle.load(f)\n",
        "    glove_words =  set(model.keys())"
      ],
      "execution_count": 0,
      "outputs": []
    },
    {
      "cell_type": "code",
      "metadata": {
        "id": "OfzFfKTbe1IP",
        "colab_type": "code",
        "colab": {}
      },
      "source": [
        "tfidf_model = TfidfVectorizer()\n",
        "tfidf_model.fit(X_train['essay'].values)\n",
        "dictionary = dict(zip(tfidf_model.get_feature_names(), list(tfidf_model.idf_)))\n",
        "tfidf_words = set(tfidf_model.get_feature_names())"
      ],
      "execution_count": 0,
      "outputs": []
    },
    {
      "cell_type": "code",
      "metadata": {
        "id": "DI9AQjV-e66z",
        "colab_type": "code",
        "outputId": "4d9db9f8-4efd-47ab-888c-daae1e5cf006",
        "colab": {
          "base_uri": "https://localhost:8080/",
          "height": 87
        }
      },
      "source": [
        "#TFIDF W2V for train dataset\n",
        "train_tfidf_w2v_essays = [] # the tfidf-w2v for each essay is stored in this list\n",
        "for sentence in tqdm(X_train['essay']): \n",
        "    vector = np.zeros(300) \n",
        "    tf_idf_weight =0; \n",
        "    for word in sentence.split():\n",
        "        if (word in glove_words) and (word in tfidf_words):\n",
        "            vec = model[word] \n",
        "            tf_idf = dictionary[word]*(sentence.count(word)/len(sentence.split())) \n",
        "            vector += (vec * tf_idf) \n",
        "            tf_idf_weight += tf_idf\n",
        "    if tf_idf_weight != 0:\n",
        "        vector /= tf_idf_weight\n",
        "    train_tfidf_w2v_essays.append(vector)\n",
        "X_train_essay_tfidf_w2v= sparse.csr_matrix(train_tfidf_w2v_essays)\n",
        "print(\"After vectorizations\")\n",
        "print(X_train_essay_tfidf_w2v.shape, y_train.shape)\n",
        "print(\"=\"*40)"
      ],
      "execution_count": 23,
      "outputs": [
        {
          "output_type": "stream",
          "text": [
            "100%|██████████| 73196/73196 [02:31<00:00, 483.50it/s]\n"
          ],
          "name": "stderr"
        },
        {
          "output_type": "stream",
          "text": [
            "After vectorizations\n",
            "(73196, 300) (73196,)\n",
            "========================================\n"
          ],
          "name": "stdout"
        }
      ]
    },
    {
      "cell_type": "code",
      "metadata": {
        "id": "5qP2D3Fye7FL",
        "colab_type": "code",
        "outputId": "e9e5f936-f991-427f-acb3-58532050334d",
        "colab": {
          "base_uri": "https://localhost:8080/",
          "height": 87
        }
      },
      "source": [
        "#TFIDF W2V for test dataset\n",
        "test_tfidf_w2v_essays = [] # the tfidf-w2v for each essay is stored in this list\n",
        "for sentence in tqdm(X_test['essay']): \n",
        "    vector = np.zeros(300) \n",
        "    tf_idf_weight =0;\n",
        "    for word in sentence.split():\n",
        "        if (word in glove_words) and (word in tfidf_words):\n",
        "            vec = model[word] \n",
        "            tf_idf = dictionary[word]*(sentence.count(word)/len(sentence.split())) \n",
        "            vector += (vec * tf_idf)\n",
        "            tf_idf_weight += tf_idf\n",
        "    if tf_idf_weight != 0:\n",
        "        vector /= tf_idf_weight\n",
        "    test_tfidf_w2v_essays.append(vector)\n",
        "X_test_essay_tfidf_w2v= sparse.csr_matrix(test_tfidf_w2v_essays)\n",
        "print(\"After vectorizations\")\n",
        "print(X_test_essay_tfidf_w2v.shape, y_test.shape)\n",
        "print(\"=\"*40)"
      ],
      "execution_count": 24,
      "outputs": [
        {
          "output_type": "stream",
          "text": [
            "100%|██████████| 36052/36052 [01:15<00:00, 479.44it/s]\n"
          ],
          "name": "stderr"
        },
        {
          "output_type": "stream",
          "text": [
            "After vectorizations\n",
            "(36052, 300) (36052,)\n",
            "========================================\n"
          ],
          "name": "stdout"
        }
      ]
    },
    {
      "cell_type": "markdown",
      "metadata": {
        "id": "-tfWiKSFfD5y",
        "colab_type": "text"
      },
      "source": [
        "###  Make Data Model Ready: Categorical Features"
      ]
    },
    {
      "cell_type": "markdown",
      "metadata": {
        "id": "wn1RhwdRfHFy",
        "colab_type": "text"
      },
      "source": [
        "#### Response Encoding"
      ]
    },
    {
      "cell_type": "code",
      "metadata": {
        "id": "qHHouHODfHz8",
        "colab_type": "code",
        "colab": {}
      },
      "source": [
        "def fit(feature):\n",
        "    X_train['class_label']=y_train # adding 'project_is_approved' column to x_train\n",
        "    count = X_train[ feature ].value_counts() # getting value counts(denominator) of each category\n",
        "    feature_dictionary = dict()\n",
        "    for i, denominator in count.items():\n",
        "        vector = []\n",
        "        for j in range(2):\n",
        "            compare =X_train.loc[ ( X_train['class_label'] == j ) & (X_train[feature] == i ) ]\n",
        "            vector.append( len( compare)  / denominator   )\n",
        "        feature_dictionary[i] = vector    # adding probability of each class label for a pariticular category of feature\n",
        "    return feature_dictionary  \n",
        "def transform(feature, df ):\n",
        "    feature_dictionary = fit(feature)\n",
        "    count = X_train[feature].value_counts()\n",
        "    f=[]\n",
        "    for cat in df[feature]:\n",
        "        if cat in dict( count ).keys():# transform test data with trainning probabilities\n",
        "            f.append( feature_dictionary[cat] )\n",
        "        else:\n",
        "            f.append([0.5, 0.05])\n",
        "    return f"
      ],
      "execution_count": 0,
      "outputs": []
    },
    {
      "cell_type": "markdown",
      "metadata": {
        "id": "ZcIWgbvrfLGS",
        "colab_type": "text"
      },
      "source": [
        "####  Encoding Categorical Features: School State"
      ]
    },
    {
      "cell_type": "code",
      "metadata": {
        "id": "OEM9a4bdfQkS",
        "colab_type": "code",
        "outputId": "91256dda-fd58-4b29-c001-841d0a60dd33",
        "colab": {
          "base_uri": "https://localhost:8080/",
          "height": 87
        }
      },
      "source": [
        "X_train_state_rc =np.array(transform('school_state',X_train))\n",
        "X_test_state_rc =np.array(transform('school_state',X_test)) \n",
        "print(\"After vectorizations\")\n",
        "print(X_train_state_rc.shape, y_train.shape)\n",
        "print(X_test_state_rc.shape, y_test.shape)\n",
        "print(\"=\"*40)"
      ],
      "execution_count": 0,
      "outputs": [
        {
          "output_type": "stream",
          "text": [
            "After vectorizations\n",
            "(73196, 2) (73196,)\n",
            "(36052, 2) (36052,)\n",
            "========================================\n"
          ],
          "name": "stdout"
        }
      ]
    },
    {
      "cell_type": "markdown",
      "metadata": {
        "id": "bozgvU0-fW_T",
        "colab_type": "text"
      },
      "source": [
        "#### Encoding Categorical Features: teacher_prefix"
      ]
    },
    {
      "cell_type": "code",
      "metadata": {
        "id": "LdjsqJ5dfXZh",
        "colab_type": "code",
        "outputId": "94b880f8-a191-41e8-c28b-4bf5516b6d9a",
        "colab": {
          "base_uri": "https://localhost:8080/",
          "height": 87
        }
      },
      "source": [
        "X_train_teacher_rc =np.array(transform('teacher_prefix',X_train))\n",
        "X_test_teacher_rc = np.array(transform('teacher_prefix',X_test))\n",
        "print(\"After vectorizations\")\n",
        "print(X_train_teacher_rc.shape, y_train.shape)\n",
        "print(X_test_teacher_rc.shape, y_test.shape)\n",
        "print(\"=\"*40)"
      ],
      "execution_count": 0,
      "outputs": [
        {
          "output_type": "stream",
          "text": [
            "After vectorizations\n",
            "(73196, 2) (73196,)\n",
            "(36052, 2) (36052,)\n",
            "========================================\n"
          ],
          "name": "stdout"
        }
      ]
    },
    {
      "cell_type": "markdown",
      "metadata": {
        "id": "h7bzkLyMfeph",
        "colab_type": "text"
      },
      "source": [
        "####   Encoding Categorical Features: project_grade_category"
      ]
    },
    {
      "cell_type": "code",
      "metadata": {
        "id": "qGRzy-RSfe6S",
        "colab_type": "code",
        "outputId": "1a8f7dfc-03c6-4edf-ce73-50c833c1f1cc",
        "colab": {
          "base_uri": "https://localhost:8080/",
          "height": 87
        }
      },
      "source": [
        "X_train_grade_rc = np.array(transform('project_grade_category',X_train))\n",
        "X_test_grade_rc = np.array(transform('project_grade_category',X_test))\n",
        "\n",
        "print(\"After vectorizations\")\n",
        "print(X_train_grade_rc.shape, y_train.shape)\n",
        "print(X_test_grade_rc.shape, y_test.shape)\n",
        "print(\"=\"*40)"
      ],
      "execution_count": 0,
      "outputs": [
        {
          "output_type": "stream",
          "text": [
            "After vectorizations\n",
            "(73196, 2) (73196,)\n",
            "(36052, 2) (36052,)\n",
            "========================================\n"
          ],
          "name": "stdout"
        }
      ]
    },
    {
      "cell_type": "markdown",
      "metadata": {
        "id": "aNLM0zPZfmgE",
        "colab_type": "text"
      },
      "source": [
        "####  Encoding Categorical Features: clean_categories\t"
      ]
    },
    {
      "cell_type": "code",
      "metadata": {
        "id": "AwZXN1v0fmtI",
        "colab_type": "code",
        "outputId": "b5514c91-50f8-4b73-919b-05e6a3b072ce",
        "colab": {
          "base_uri": "https://localhost:8080/",
          "height": 87
        }
      },
      "source": [
        "X_train_category_rc =np.array(transform('clean_categories',X_train))\n",
        "X_test_category_rc = np.array(transform('clean_categories',X_test))\n",
        "\n",
        "print(\"After vectorizations\")\n",
        "print(X_train_category_rc.shape, y_train.shape)\n",
        "print(X_test_category_rc.shape, y_test.shape)\n",
        "print(\"=\"*40)"
      ],
      "execution_count": 0,
      "outputs": [
        {
          "output_type": "stream",
          "text": [
            "After vectorizations\n",
            "(73196, 2) (73196,)\n",
            "(36052, 2) (36052,)\n",
            "========================================\n"
          ],
          "name": "stdout"
        }
      ]
    },
    {
      "cell_type": "markdown",
      "metadata": {
        "id": "D2_W4W3pfu9Z",
        "colab_type": "text"
      },
      "source": [
        "#####  Encoding Categorical Features: \tclean_subcategories"
      ]
    },
    {
      "cell_type": "code",
      "metadata": {
        "id": "S5Fxml9rfvHW",
        "colab_type": "code",
        "outputId": "99c7a367-6b11-46ed-8921-769aeca04fad",
        "colab": {
          "base_uri": "https://localhost:8080/",
          "height": 87
        }
      },
      "source": [
        "X_train_subcategory_rc = np.array(transform('clean_subcategories',X_train))\n",
        "X_test_subcategory_rc = np.array(transform('clean_subcategories',X_test))\n",
        "print(\"After vectorizations\")\n",
        "print(X_train_subcategory_rc.shape, y_train.shape)\n",
        "print(X_test_subcategory_rc.shape, y_test.shape)\n",
        "print(\"=\"*40)"
      ],
      "execution_count": 0,
      "outputs": [
        {
          "output_type": "stream",
          "text": [
            "After vectorizations\n",
            "(73196, 2) (73196,)\n",
            "(36052, 2) (36052,)\n",
            "========================================\n"
          ],
          "name": "stdout"
        }
      ]
    },
    {
      "cell_type": "markdown",
      "metadata": {
        "id": "LYewrexZf3qJ",
        "colab_type": "text"
      },
      "source": [
        "###  Encoding Numerical Features"
      ]
    },
    {
      "cell_type": "markdown",
      "metadata": {
        "id": "3E0DIT-Hf30P",
        "colab_type": "text"
      },
      "source": [
        "#### Encoding Numerical Feature :price"
      ]
    },
    {
      "cell_type": "code",
      "metadata": {
        "id": "6I_0_w2Gf9sz",
        "colab_type": "code",
        "outputId": "3d65a526-8466-4e30-ec03-4e1fa458ba5f",
        "colab": {
          "base_uri": "https://localhost:8080/",
          "height": 87
        }
      },
      "source": [
        "normalizer = Normalizer()\n",
        "normalizer.fit(X_train['price'].values.reshape(1,-1)) #fitting\n",
        "\n",
        "X_train_price_norm = normalizer.transform(X_train['price'].values.reshape(1,-1))  #transform\n",
        "X_test_price_norm = normalizer.transform(X_test['price'].values.reshape(1,-1))\n",
        "\n",
        "X_train_price_norm =X_train_price_norm.reshape(-1,1)\n",
        "X_test_price_norm=X_test_price_norm.reshape(-1,1)\n",
        "\n",
        "print(\"After vectorizations\")\n",
        "print(X_train_price_norm.shape, y_train.shape)\n",
        "print(X_test_price_norm.shape, y_test.shape)\n",
        "print(\"=\"*40)"
      ],
      "execution_count": 0,
      "outputs": [
        {
          "output_type": "stream",
          "text": [
            "After vectorizations\n",
            "(73196, 1) (73196,)\n",
            "(36052, 1) (36052,)\n",
            "========================================\n"
          ],
          "name": "stdout"
        }
      ]
    },
    {
      "cell_type": "markdown",
      "metadata": {
        "id": "N23SH8hagBsx",
        "colab_type": "text"
      },
      "source": [
        "####  Encoding Numerical Features:teacher_number_of_previously_posted_projects\t"
      ]
    },
    {
      "cell_type": "code",
      "metadata": {
        "id": "J0N3NiougB3T",
        "colab_type": "code",
        "outputId": "55fae606-d2a6-4625-a715-5385a2b9dbde",
        "colab": {
          "base_uri": "https://localhost:8080/",
          "height": 87
        }
      },
      "source": [
        "normalizer = Normalizer()\n",
        "normalizer.fit(X_train['teacher_number_of_previously_posted_projects'].values.reshape(1,-1)) #fitting\n",
        "X_train_submission_norm = normalizer.transform(X_train['teacher_number_of_previously_posted_projects'].values.reshape(1,-1))  #transform\n",
        "X_test_submission_norm = normalizer.transform(X_test['teacher_number_of_previously_posted_projects'].values.reshape(1,-1))\n",
        "\n",
        "X_train_submission_norm =X_train_submission_norm .reshape(-1,1)\n",
        "X_test_submission_norm=X_test_submission_norm.reshape(-1,1)\n",
        "\n",
        "print(\"After vectorizations\")\n",
        "print(X_train_submission_norm.shape, y_train.shape)\n",
        "print(X_test_submission_norm.shape, y_test.shape)\n",
        "print(\"=\"*40)"
      ],
      "execution_count": 0,
      "outputs": [
        {
          "output_type": "stream",
          "text": [
            "After vectorizations\n",
            "(73196, 1) (73196,)\n",
            "(36052, 1) (36052,)\n",
            "========================================\n"
          ],
          "name": "stdout"
        }
      ]
    },
    {
      "cell_type": "markdown",
      "metadata": {
        "id": "ABAc4EkzgHsV",
        "colab_type": "text"
      },
      "source": [
        "####  Encoding Numerical Features:neg"
      ]
    },
    {
      "cell_type": "code",
      "metadata": {
        "id": "ULJS6wqVgH4j",
        "colab_type": "code",
        "outputId": "0957e548-5e73-4c04-8fdf-9b536ec088a6",
        "colab": {
          "base_uri": "https://localhost:8080/",
          "height": 87
        }
      },
      "source": [
        "normalizer = Normalizer()\n",
        "normalizer.fit(X_train['neg'].values.reshape(1,-1)) #fitting\n",
        "\n",
        "X_train_neg_norm = normalizer.transform(X_train['neg'].values.reshape(1,-1))  #transform\n",
        "X_test_neg_norm = normalizer.transform(X_test['neg'].values.reshape(1,-1))\n",
        "\n",
        "X_train_neg_norm =X_train_neg_norm .reshape(-1,1)\n",
        "X_test_neg_norm=X_test_neg_norm.reshape(-1,1)\n",
        "\n",
        "print(\"After vectorizations\")\n",
        "print(X_train_neg_norm.shape, y_train.shape)\n",
        "print(X_test_neg_norm.shape, y_test.shape)\n",
        "print(\"=\"*40)"
      ],
      "execution_count": 0,
      "outputs": [
        {
          "output_type": "stream",
          "text": [
            "After vectorizations\n",
            "(73196, 1) (73196,)\n",
            "(36052, 1) (36052,)\n",
            "========================================\n"
          ],
          "name": "stdout"
        }
      ]
    },
    {
      "cell_type": "markdown",
      "metadata": {
        "id": "5MP3NWnYgM1B",
        "colab_type": "text"
      },
      "source": [
        "####  Encoding Numerical Features:pos"
      ]
    },
    {
      "cell_type": "code",
      "metadata": {
        "id": "PxpVQbS0gNBL",
        "colab_type": "code",
        "outputId": "641f1c83-b883-414b-d0a8-86e8101de526",
        "colab": {
          "base_uri": "https://localhost:8080/",
          "height": 87
        }
      },
      "source": [
        "normalizer = Normalizer()\n",
        "normalizer.fit(X_train['pos'].values.reshape(1,-1)) #fitting\n",
        "\n",
        "X_train_pos_norm = normalizer.transform(X_train['pos'].values.reshape(1,-1))  #transform\n",
        "X_test_pos_norm = normalizer.transform(X_test['pos'].values.reshape(1,-1))\n",
        "\n",
        "X_train_pos_norm =X_train_pos_norm .reshape(-1,1)\n",
        "X_test_pos_norm=X_test_neg_norm.reshape(-1,1)\n",
        "\n",
        "print(\"After vectorizations\")\n",
        "print(X_train_pos_norm.shape, y_train.shape)\n",
        "print(X_test_pos_norm.shape, y_test.shape)\n",
        "print(\"=\"*40)"
      ],
      "execution_count": 0,
      "outputs": [
        {
          "output_type": "stream",
          "text": [
            "After vectorizations\n",
            "(73196, 1) (73196,)\n",
            "(36052, 1) (36052,)\n",
            "========================================\n"
          ],
          "name": "stdout"
        }
      ]
    },
    {
      "cell_type": "markdown",
      "metadata": {
        "id": "I22hbfS1gU-o",
        "colab_type": "text"
      },
      "source": [
        "####  Encoding Numerical Features:neu"
      ]
    },
    {
      "cell_type": "code",
      "metadata": {
        "id": "eAPe-75HgVnc",
        "colab_type": "code",
        "outputId": "56cb5044-5c07-43f8-c805-47d326f55475",
        "colab": {
          "base_uri": "https://localhost:8080/",
          "height": 87
        }
      },
      "source": [
        "normalizer = Normalizer()\n",
        "normalizer.fit(X_train['neu'].values.reshape(1,-1)) #fitting\n",
        "X_train_neu_norm = normalizer.transform(X_train['neu'].values.reshape(1,-1))\n",
        "X_test_neu_norm = normalizer.transform(X_test['neu'].values.reshape(1,-1))\n",
        "\n",
        "X_train_neu_norm =X_train_neu_norm .reshape(-1,1)\n",
        "X_test_neu_norm=X_test_neu_norm.reshape(-1,1)\n",
        "\n",
        "print(\"After vectorizations\")\n",
        "print(X_train_neu_norm.shape, y_train.shape)\n",
        "print(X_test_neu_norm.shape, y_test.shape)\n",
        "print(\"=\"*40)"
      ],
      "execution_count": 0,
      "outputs": [
        {
          "output_type": "stream",
          "text": [
            "After vectorizations\n",
            "(73196, 1) (73196,)\n",
            "(36052, 1) (36052,)\n",
            "========================================\n"
          ],
          "name": "stdout"
        }
      ]
    },
    {
      "cell_type": "markdown",
      "metadata": {
        "id": "4S9kYo_Rgbgr",
        "colab_type": "text"
      },
      "source": [
        "####  Encoding Numerical Features:compound"
      ]
    },
    {
      "cell_type": "code",
      "metadata": {
        "id": "ysEN4ztwgcGN",
        "colab_type": "code",
        "outputId": "d0c6bdcb-9e13-40b0-c0ee-c0b55e821175",
        "colab": {
          "base_uri": "https://localhost:8080/",
          "height": 87
        }
      },
      "source": [
        "normalizer = Normalizer()\n",
        "normalizer.fit(X_train['compound'].values.reshape(1,-1)) #fitting\n",
        "\n",
        "X_train_compound_norm = normalizer.transform(X_train['compound'].values.reshape(1,-1))  #transform\n",
        "X_test_compound_norm = normalizer.transform(X_test['compound'].values.reshape(1,-1))\n",
        "\n",
        "X_train_compound_norm =X_train_compound_norm .reshape(-1,1)\n",
        "X_test_compound_norm=X_test_neu_norm.reshape(-1,1)\n",
        "\n",
        "print(\"After vectorizations\")\n",
        "print(X_train_compound_norm.shape, y_train.shape)\n",
        "print(X_test_compound_norm.shape, y_test.shape)\n",
        "print(\"=\"*40)\n"
      ],
      "execution_count": 0,
      "outputs": [
        {
          "output_type": "stream",
          "text": [
            "After vectorizations\n",
            "(73196, 1) (73196,)\n",
            "(36052, 1) (36052,)\n",
            "========================================\n"
          ],
          "name": "stdout"
        }
      ]
    },
    {
      "cell_type": "markdown",
      "metadata": {
        "id": "q7xd84d8ghdT",
        "colab_type": "text"
      },
      "source": [
        "###   Concatinating All The Features"
      ]
    },
    {
      "cell_type": "markdown",
      "metadata": {
        "id": "lrQZtsqDglFg",
        "colab_type": "text"
      },
      "source": [
        "##### SET-1"
      ]
    },
    {
      "cell_type": "markdown",
      "metadata": {
        "id": "4PDC7trIglJx",
        "colab_type": "text"
      },
      "source": [
        "* Set 1: categorical, numerical features + preprocessed_eassay (TFIDF)"
      ]
    },
    {
      "cell_type": "code",
      "metadata": {
        "id": "ITd4c9ragpQh",
        "colab_type": "code",
        "colab": {}
      },
      "source": [
        "from scipy.sparse import hstack\n",
        "X_tr_set_one = hstack((X_train_essay_tfidf, X_train_state_rc, X_train_teacher_rc, X_train_grade_rc, X_train_price_norm,X_train_category_rc,X_train_subcategory_rc,X_train_submission_norm,X_train_neg_norm ,X_train_pos_norm,X_train_neu_norm,X_train_compound_norm)).tocsr()\n",
        "X_te_set_one = hstack((X_test_essay_tfidf, X_test_state_rc, X_test_teacher_rc, X_test_grade_rc, X_test_price_norm,X_test_category_rc,X_test_subcategory_rc,X_test_submission_norm,X_test_neg_norm,X_test_pos_norm,X_test_neu_norm,X_test_compound_norm)).tocsr()"
      ],
      "execution_count": 0,
      "outputs": []
    },
    {
      "cell_type": "code",
      "metadata": {
        "id": "WXRWSopCgvsh",
        "colab_type": "code",
        "outputId": "36d3b4f2-4fb4-4e61-b5ff-f5ef9c26b5ed",
        "colab": {
          "base_uri": "https://localhost:8080/",
          "height": 70
        }
      },
      "source": [
        "print(\"SHAPE OF TRAIN AND TEST AFTER STACKING\")\n",
        "print(X_tr_set_one.shape)\n",
        "print(X_te_set_one.shape)"
      ],
      "execution_count": 0,
      "outputs": [
        {
          "output_type": "stream",
          "text": [
            "SHAPE OF TRAIN AND TEST AFTER STACKING\n",
            "(73196, 5016)\n",
            "(36052, 5016)\n"
          ],
          "name": "stdout"
        }
      ]
    },
    {
      "cell_type": "markdown",
      "metadata": {
        "id": "ZFTIBhv_gw_R",
        "colab_type": "text"
      },
      "source": [
        "#### SET-2"
      ]
    },
    {
      "cell_type": "markdown",
      "metadata": {
        "id": "kLcAyWq-gxGN",
        "colab_type": "text"
      },
      "source": [
        "* Set 2: categorical, numerical features + preprocessed_eassay (TFIDF W2V)"
      ]
    },
    {
      "cell_type": "code",
      "metadata": {
        "id": "J9akqWwsg30T",
        "colab_type": "code",
        "colab": {}
      },
      "source": [
        "from scipy.sparse import hstack\n",
        "X_tr_set_two = hstack((X_train_essay_tfidf_w2v, X_train_state_rc, X_train_teacher_rc, X_train_grade_rc, X_train_price_norm,X_train_category_rc,X_train_subcategory_rc,X_train_submission_norm)).tocsr()\n",
        "X_te_set_two = hstack((X_test_essay_tfidf_w2v, X_test_state_rc, X_test_teacher_rc, X_test_grade_rc, X_test_price_norm,X_test_category_rc,X_test_subcategory_rc,X_test_submission_norm)).tocsr()"
      ],
      "execution_count": 0,
      "outputs": []
    },
    {
      "cell_type": "code",
      "metadata": {
        "id": "yWDt1ENZg4eA",
        "colab_type": "code",
        "outputId": "0fd7662d-1e50-43b8-bd8a-b8cea539855d",
        "colab": {
          "base_uri": "https://localhost:8080/",
          "height": 70
        }
      },
      "source": [
        "print(\"SHAPE OF TRAIN AND TEST AFTER STACKING\")\n",
        "print(X_tr_set_two.shape)\n",
        "print(X_te_set_two.shape)"
      ],
      "execution_count": 0,
      "outputs": [
        {
          "output_type": "stream",
          "text": [
            "SHAPE OF TRAIN AND TEST AFTER STACKING\n",
            "(73196, 312)\n",
            "(36052, 312)\n"
          ],
          "name": "stdout"
        }
      ]
    },
    {
      "cell_type": "markdown",
      "metadata": {
        "id": "V452FOmpvvQv",
        "colab_type": "text"
      },
      "source": [
        "###  GRADIENT BOOSTING CLASSIFIER USING GRID SEARCH CROSS VALIDATION (SET - 1)"
      ]
    },
    {
      "cell_type": "code",
      "metadata": {
        "id": "FdWvggDlvwFK",
        "colab_type": "code",
        "outputId": "0bd1796d-02db-438a-def2-6af79a63eb22",
        "colab": {
          "base_uri": "https://localhost:8080/",
          "height": 443
        }
      },
      "source": [
        "from sklearn.ensemble import GradientBoostingClassifier\n",
        "from sklearn.model_selection import GridSearchCV\n",
        "parameters = {\"max_depth\":[1,2,3,4],\"n_estimators\":[5,10,15,20] }\n",
        "clf = GridSearchCV(GradientBoostingClassifier(), parameters, cv=5,  scoring='roc_auc',return_train_score=True,n_jobs=-1)\n",
        "clf.fit(X_tr_set_one,y_train)"
      ],
      "execution_count": 0,
      "outputs": [
        {
          "output_type": "execute_result",
          "data": {
            "text/plain": [
              "GridSearchCV(cv=5, error_score=nan,\n",
              "             estimator=GradientBoostingClassifier(ccp_alpha=0.0,\n",
              "                                                  criterion='friedman_mse',\n",
              "                                                  init=None, learning_rate=0.1,\n",
              "                                                  loss='deviance', max_depth=3,\n",
              "                                                  max_features=None,\n",
              "                                                  max_leaf_nodes=None,\n",
              "                                                  min_impurity_decrease=0.0,\n",
              "                                                  min_impurity_split=None,\n",
              "                                                  min_samples_leaf=1,\n",
              "                                                  min_samples_split=2,\n",
              "                                                  min_weight_fraction_leaf=0.0,\n",
              "                                                  n_estimators=100,\n",
              "                                                  n_iter_no_change=None,\n",
              "                                                  presort='deprecated',\n",
              "                                                  random_state=None,\n",
              "                                                  subsample=1.0, tol=0.0001,\n",
              "                                                  validation_fraction=0.1,\n",
              "                                                  verbose=0, warm_start=False),\n",
              "             iid='deprecated', n_jobs=-1,\n",
              "             param_grid={'max_depth': [1, 2, 3, 4],\n",
              "                         'n_estimators': [5, 10, 15, 20]},\n",
              "             pre_dispatch='2*n_jobs', refit=True, return_train_score=True,\n",
              "             scoring='roc_auc', verbose=0)"
            ]
          },
          "metadata": {
            "tags": []
          },
          "execution_count": 76
        }
      ]
    },
    {
      "cell_type": "code",
      "metadata": {
        "id": "uC49QLgFwKWm",
        "colab_type": "code",
        "colab": {}
      },
      "source": [
        "train_auc= clf.cv_results_['mean_train_score']\n",
        "train_auc_std= clf.cv_results_['std_train_score']\n",
        "cv_auc = clf.cv_results_['mean_test_score'] \n",
        "cv_auc_std= clf.cv_results_['std_test_score']"
      ],
      "execution_count": 0,
      "outputs": []
    },
    {
      "cell_type": "code",
      "metadata": {
        "id": "h5BJ2wA62ipD",
        "colab_type": "code",
        "outputId": "72df7efd-cd58-40d1-cba4-fb99f1518d4e",
        "colab": {
          "base_uri": "https://localhost:8080/",
          "height": 52
        }
      },
      "source": [
        "print('Best score: ',clf.best_score_)\n",
        "print('Best Hyper parameters: ',clf.best_params_)"
      ],
      "execution_count": 0,
      "outputs": [
        {
          "output_type": "stream",
          "text": [
            "Best score:  0.684567328741456\n",
            "Best Hyper parameters:  {'max_depth': 4, 'n_estimators': 20}\n"
          ],
          "name": "stdout"
        }
      ]
    },
    {
      "cell_type": "markdown",
      "metadata": {
        "id": "0A7dvIqx2xEj",
        "colab_type": "text"
      },
      "source": [
        "#### Plotting Hyperparameter v/s Auc"
      ]
    },
    {
      "cell_type": "markdown",
      "metadata": {
        "id": "EKqufmtv3Z4b",
        "colab_type": "text"
      },
      "source": [
        "#### Roc Plot Of Train And Test Data"
      ]
    },
    {
      "cell_type": "markdown",
      "metadata": {
        "id": "m5XitRPLhR4v",
        "colab_type": "text"
      },
      "source": [
        "##### Train data"
      ]
    },
    {
      "cell_type": "code",
      "metadata": {
        "id": "OPtAnORIbyfl",
        "colab_type": "code",
        "outputId": "1f5d8827-b833-4606-e8b0-72baf41c220f",
        "colab": {
          "base_uri": "https://localhost:8080/",
          "height": 388
        }
      },
      "source": [
        "import pandas as pd\n",
        "pvt = pd.pivot_table(pd.DataFrame(clf.cv_results_),\n",
        "    values='mean_train_score', index='param_max_depth', columns='param_n_estimators') #https://stackoverflow.com/questions/48791709/how-to-plot-a-heat-map-on-pivot-table-after-grid-search\n",
        "plt.figure(figsize=(10,6))\n",
        "ax=sns.heatmap(pvt,annot=True,linewidths=.5)"
      ],
      "execution_count": 0,
      "outputs": [
        {
          "output_type": "display_data",
          "data": {
            "image/png": "[encoded data removed]",
            "text/plain": [
              "<Figure size 720x432 with 2 Axes>"
            ]
          },
          "metadata": {
            "tags": [],
            "needs_background": "light"
          }
        }
      ]
    },
    {
      "cell_type": "markdown",
      "metadata": {
        "id": "cgf6UtPVhZcH",
        "colab_type": "text"
      },
      "source": [
        "##### Test data"
      ]
    },
    {
      "cell_type": "code",
      "metadata": {
        "id": "PIHDbtAdalks",
        "colab_type": "code",
        "outputId": "55f7ae7d-3fcd-4dea-e076-2fb58b40acbb",
        "colab": {
          "base_uri": "https://localhost:8080/",
          "height": 388
        }
      },
      "source": [
        "import pandas as pd\n",
        "pvt = pd.pivot_table(pd.DataFrame(clf.cv_results_),\n",
        "    values='mean_test_score', index='param_max_depth', columns='param_n_estimators') #https://stackoverflow.com/questions/48791709/how-to-plot-a-heat-map-on-pivot-table-after-grid-search\n",
        "plt.figure(figsize=(10,6))\n",
        "ax=sns.heatmap(pvt,annot=True,linewidths=.5)"
      ],
      "execution_count": 0,
      "outputs": [
        {
          "output_type": "display_data",
          "data": {
            "image/png": "[encoded data removed]",
            "text/plain": [
              "<Figure size 720x432 with 2 Axes>"
            ]
          },
          "metadata": {
            "tags": [],
            "needs_background": "light"
          }
        }
      ]
    },
    {
      "cell_type": "markdown",
      "metadata": {
        "id": "nAoyzXvV1pGY",
        "colab_type": "text"
      },
      "source": [
        "Roc Plot Of Train And Test Data"
      ]
    },
    {
      "cell_type": "code",
      "metadata": {
        "id": "Bnr1Kgcz3amr",
        "colab_type": "code",
        "outputId": "3b30f441-d691-4284-db54-7f9fb79695f6",
        "colab": {
          "base_uri": "https://localhost:8080/",
          "height": 513
        }
      },
      "source": [
        "model_set1=GradientBoostingClassifier(max_depth = clf.best_params_[\"max_depth\"], n_estimators= clf.best_params_[\"n_estimators\"])\n",
        "model_set1.fit(X_tr_set_one,y_train)\n",
        "y_train_probs = clf.predict_proba(X_tr_set_one)[:,1] # converting train and test output into probability\n",
        "y_test_probs= clf.predict_proba(X_te_set_one )[:,1]\n",
        "\n",
        "train_fpr, train_tpr, tr_thresholds = roc_curve(y_train, y_train_probs) # storing values of fpr and tpr\n",
        "test_fpr, test_tpr, te_thresholds = roc_curve(y_test, y_test_probs)\n",
        "\n",
        "plt.figure(figsize=(12,8))\n",
        "plt.plot(train_fpr, train_tpr, label=\"Train AUC =\"+str(auc(train_fpr, train_tpr)))\n",
        "plt.plot(test_fpr, test_tpr, label=\"Test AUC =\"+str(auc(test_fpr, test_tpr)))\n",
        "plt.legend()\n",
        "plt.xlabel(\"False Positive Rate(FPR)\")\n",
        "plt.ylabel(\"True Positive Rate(TPR)\")\n",
        "plt.title(\"ROC CURVE\")\n",
        "plt.grid(color='black',lw=0.5)"
      ],
      "execution_count": 0,
      "outputs": [
        {
          "output_type": "display_data",
          "data": {
            "image/png": "[encoded data removed]",
            "text/plain": [
              "<Figure size 864x576 with 1 Axes>"
            ]
          },
          "metadata": {
            "tags": [],
            "needs_background": "light"
          }
        }
      ]
    },
    {
      "cell_type": "markdown",
      "metadata": {
        "id": "dMhZW8B53hLo",
        "colab_type": "text"
      },
      "source": [
        "### Confusion Matrix"
      ]
    },
    {
      "cell_type": "code",
      "metadata": {
        "id": "lezNXInd3mC0",
        "colab_type": "code",
        "colab": {}
      },
      "source": [
        "def find_best_threshold(threshould, fpr, tpr):\n",
        "    t = threshould[np.argmax(tpr*(1-fpr))]\n",
        "    # (tpr*(1-fpr)) will be maximum if your fpr is very low and tpr is very high\n",
        "    print(\"the maximum value of tpr*(1-fpr)\", max(tpr*(1-fpr)), \"for threshold\", np.round(t,3))\n",
        "    return t\n",
        "\n",
        "def predict_with_best_t(proba, threshould):\n",
        "    predictions = []\n",
        "    for i in proba:\n",
        "        if i>=threshould:\n",
        "            predictions.append(1)\n",
        "        else:\n",
        "            predictions.append(0)\n",
        "    return predictions"
      ],
      "execution_count": 0,
      "outputs": []
    },
    {
      "cell_type": "markdown",
      "metadata": {
        "id": "KsX9XCTv39Nu",
        "colab_type": "text"
      },
      "source": [
        "#### Train Data"
      ]
    },
    {
      "cell_type": "code",
      "metadata": {
        "id": "IzUdn7tE4AYt",
        "colab_type": "code",
        "outputId": "b60f6ff7-ca13-4af9-e888-adbedf03d76e",
        "colab": {
          "base_uri": "https://localhost:8080/",
          "height": 422
        }
      },
      "source": [
        "best_t = find_best_threshold(tr_thresholds, train_fpr, train_tpr)\n",
        "cm=metrics.confusion_matrix(y_train,predict_with_best_t(y_train_probs, best_t))  # https://stackoverflow.com/questions/35572000/how-can-i-plot-a-confusion-matrix\n",
        "\n",
        "print(\"CONFUSION MATRIX OF TRAIN DATA\")\n",
        "print(\"\\n\")\n",
        "print(cm)\n",
        "sns.heatmap(cm, annot=True, fmt='d',cmap='GnBu',annot_kws = {\"size\":16})\n",
        "plt.ylabel('True Label',size=12)\n",
        "plt.xlabel('Predicted Label',size=12)\n",
        "plt.title('Train Data Confusion Matrix',size=12)"
      ],
      "execution_count": 0,
      "outputs": [
        {
          "output_type": "stream",
          "text": [
            "the maximum value of tpr*(1-fpr) 0.4277456121087118 for threshold 0.846\n",
            "CONFUSION MATRIX OF TRAIN DATA\n",
            "\n",
            "\n",
            "[[ 7046  4037]\n",
            " [20322 41791]]\n"
          ],
          "name": "stdout"
        },
        {
          "output_type": "execute_result",
          "data": {
            "text/plain": [
              "Text(0.5, 1.0, 'Train Data Confusion Matrix')"
            ]
          },
          "metadata": {
            "tags": []
          },
          "execution_count": 112
        },
        {
          "output_type": "display_data",
          "data": {
            "image/png": "[encoded data removed]",
            "text/plain": [
              "<Figure size 432x288 with 2 Axes>"
            ]
          },
          "metadata": {
            "tags": [],
            "needs_background": "light"
          }
        }
      ]
    },
    {
      "cell_type": "markdown",
      "metadata": {
        "id": "zkPpZSzJ4LhQ",
        "colab_type": "text"
      },
      "source": [
        "####  Test Data"
      ]
    },
    {
      "cell_type": "code",
      "metadata": {
        "id": "yXlZZ5t24OHS",
        "colab_type": "code",
        "outputId": "d1a0eee7-1142-4771-c293-f5ab7eadfb07",
        "colab": {
          "base_uri": "https://localhost:8080/",
          "height": 422
        }
      },
      "source": [
        "best_t = find_best_threshold(te_thresholds, test_fpr, test_tpr)\n",
        "cm=metrics.confusion_matrix(y_test,predict_with_best_t(y_test_probs, best_t))\n",
        "  \n",
        "print(\"CONFUSION MATRIX OF TEST DATA\")\n",
        "print('\\n')\n",
        "print(cm)\n",
        "sns.heatmap(cm, annot=True, fmt='d',cmap='GnBu',annot_kws = {\"size\":16})\n",
        "plt.ylabel('True Label',size=12)\n",
        "plt.xlabel('Predicted Label',size=12)\n",
        "plt.title('Test Data Confusion Matrix',size=12)"
      ],
      "execution_count": 0,
      "outputs": [
        {
          "output_type": "stream",
          "text": [
            "the maximum value of tpr*(1-fpr) 0.39333136004500213 for threshold 0.85\n",
            "CONFUSION MATRIX OF TEST DATA\n",
            "\n",
            "\n",
            "[[ 3537  1922]\n",
            " [12021 18572]]\n"
          ],
          "name": "stdout"
        },
        {
          "output_type": "execute_result",
          "data": {
            "text/plain": [
              "Text(0.5, 1.0, 'Test Data Confusion Matrix')"
            ]
          },
          "metadata": {
            "tags": []
          },
          "execution_count": 113
        },
        {
          "output_type": "display_data",
          "data": {
            "image/png": "[encoded data removed]",
            "text/plain": [
              "<Figure size 432x288 with 2 Axes>"
            ]
          },
          "metadata": {
            "tags": [],
            "needs_background": "light"
          }
        }
      ]
    },
    {
      "cell_type": "markdown",
      "metadata": {
        "id": "wIiF0jIs6Ypa",
        "colab_type": "text"
      },
      "source": [
        "###  GRADIENT BOOSTING CLASSIFIER USING GRID SEARCH CROSS VALIDATION (SET - 2)"
      ]
    },
    {
      "cell_type": "code",
      "metadata": {
        "id": "BkU2zdb66Zba",
        "colab_type": "code",
        "outputId": "2585769f-4d45-454d-d01c-b91786170c48",
        "colab": {
          "base_uri": "https://localhost:8080/",
          "height": 443
        }
      },
      "source": [
        "from sklearn.ensemble import GradientBoostingClassifier\n",
        "from sklearn.model_selection import GridSearchCV\n",
        "parameters = {\"max_depth\":[1,2,3,4],\"n_estimators\":[5,10,15,20] }\n",
        "clf = GridSearchCV(GradientBoostingClassifier(), parameters, cv=5,  scoring='roc_auc',return_train_score=True,n_jobs=-1)\n",
        "clf.fit(X_tr_set_two,y_train)"
      ],
      "execution_count": 0,
      "outputs": [
        {
          "output_type": "execute_result",
          "data": {
            "text/plain": [
              "GridSearchCV(cv=5, error_score=nan,\n",
              "             estimator=GradientBoostingClassifier(ccp_alpha=0.0,\n",
              "                                                  criterion='friedman_mse',\n",
              "                                                  init=None, learning_rate=0.1,\n",
              "                                                  loss='deviance', max_depth=3,\n",
              "                                                  max_features=None,\n",
              "                                                  max_leaf_nodes=None,\n",
              "                                                  min_impurity_decrease=0.0,\n",
              "                                                  min_impurity_split=None,\n",
              "                                                  min_samples_leaf=1,\n",
              "                                                  min_samples_split=2,\n",
              "                                                  min_weight_fraction_leaf=0.0,\n",
              "                                                  n_estimators=100,\n",
              "                                                  n_iter_no_change=None,\n",
              "                                                  presort='deprecated',\n",
              "                                                  random_state=None,\n",
              "                                                  subsample=1.0, tol=0.0001,\n",
              "                                                  validation_fraction=0.1,\n",
              "                                                  verbose=0, warm_start=False),\n",
              "             iid='deprecated', n_jobs=-1,\n",
              "             param_grid={'max_depth': [1, 2, 3, 4],\n",
              "                         'n_estimators': [5, 10, 15, 20]},\n",
              "             pre_dispatch='2*n_jobs', refit=True, return_train_score=True,\n",
              "             scoring='roc_auc', verbose=0)"
            ]
          },
          "metadata": {
            "tags": []
          },
          "execution_count": 114
        }
      ]
    },
    {
      "cell_type": "code",
      "metadata": {
        "id": "-Swq2m_i1Gy3",
        "colab_type": "code",
        "colab": {}
      },
      "source": [
        "train_auc= clf.cv_results_['mean_train_score']\n",
        "train_auc_std= clf.cv_results_['std_train_score']\n",
        "cv_auc = clf.cv_results_['mean_test_score'] \n",
        "cv_auc_std= clf.cv_results_['std_test_score']"
      ],
      "execution_count": 0,
      "outputs": []
    },
    {
      "cell_type": "code",
      "metadata": {
        "id": "Ze6E-SCLMAGE",
        "colab_type": "code",
        "outputId": "b0991b38-f31b-4153-8ed9-39b51dd96182",
        "colab": {
          "base_uri": "https://localhost:8080/",
          "height": 52
        }
      },
      "source": [
        "print('Best score: ',clf.best_score_)\n",
        "print('Best Hyper parameters: ',clf.best_params_)"
      ],
      "execution_count": 0,
      "outputs": [
        {
          "output_type": "stream",
          "text": [
            "Best score:  0.6902930550494676\n",
            "Best Hyper parameters:  {'max_depth': 4, 'n_estimators': 20}\n"
          ],
          "name": "stdout"
        }
      ]
    },
    {
      "cell_type": "markdown",
      "metadata": {
        "id": "O0iOLH2a1bgK",
        "colab_type": "text"
      },
      "source": [
        "#### Plotting Hyperparameter v/s Auc"
      ]
    },
    {
      "cell_type": "markdown",
      "metadata": {
        "id": "S84TfbKl118a",
        "colab_type": "text"
      },
      "source": [
        "### Train Data"
      ]
    },
    {
      "cell_type": "code",
      "metadata": {
        "id": "GnbiaaL115jM",
        "colab_type": "code",
        "outputId": "18734dbd-b7f4-4f96-ac65-a284e3c5b7fe",
        "colab": {
          "base_uri": "https://localhost:8080/",
          "height": 388
        }
      },
      "source": [
        "import pandas as pd\n",
        "pvt = pd.pivot_table(pd.DataFrame(clf.cv_results_),\n",
        "    values='mean_train_score', index='param_max_depth', columns='param_n_estimators') #https://stackoverflow.com/questions/48791709/how-to-plot-a-heat-map-on-pivot-table-after-grid-search\n",
        "plt.figure(figsize=(10,6))\n",
        "ax=sns.heatmap(pvt,annot=True,linewidths=.5)"
      ],
      "execution_count": 0,
      "outputs": [
        {
          "output_type": "display_data",
          "data": {
            "image/png": "[encoded data removed]",
            "text/plain": [
              "<Figure size 720x432 with 2 Axes>"
            ]
          },
          "metadata": {
            "tags": [],
            "needs_background": "light"
          }
        }
      ]
    },
    {
      "cell_type": "markdown",
      "metadata": {
        "id": "18nGP9EQ1--X",
        "colab_type": "text"
      },
      "source": [
        "### Cross Validation data"
      ]
    },
    {
      "cell_type": "code",
      "metadata": {
        "id": "KFkITP7Q2E61",
        "colab_type": "code",
        "outputId": "7782c4e8-26e3-4694-d2fd-f58f7a0cd417",
        "colab": {
          "base_uri": "https://localhost:8080/",
          "height": 392
        }
      },
      "source": [
        "import pandas as pd\n",
        "pvt = pd.pivot_table(pd.DataFrame(clf.cv_results_),\n",
        "    values='mean_test_score', index='param_max_depth', columns='param_n_estimators') #https://stackoverflow.com/questions/48791709/how-to-plot-a-heat-map-on-pivot-table-after-grid-search\n",
        "plt.figure(figsize=(10,6))\n",
        "ax=sns.heatmap(pvt,annot=True,linewidths=.5)"
      ],
      "execution_count": 0,
      "outputs": [
        {
          "output_type": "display_data",
          "data": {
            "image/png": "[encoded data removed]",
            "text/plain": [
              "<Figure size 720x432 with 2 Axes>"
            ]
          },
          "metadata": {
            "tags": [],
            "needs_background": "light"
          }
        }
      ]
    },
    {
      "cell_type": "markdown",
      "metadata": {
        "id": "axzCs2J72M0w",
        "colab_type": "text"
      },
      "source": [
        "Roc Plot Of Train And Test Data"
      ]
    },
    {
      "cell_type": "code",
      "metadata": {
        "id": "8GBp-4s82NwY",
        "colab_type": "code",
        "outputId": "00aa5653-8548-4aac-f231-c5c30697f4fe",
        "colab": {
          "base_uri": "https://localhost:8080/",
          "height": 513
        }
      },
      "source": [
        "model_set2=GradientBoostingClassifier(max_depth = clf.best_params_[\"max_depth\"], n_estimators= clf.best_params_[\"n_estimators\"])\n",
        "model_set2.fit(X_tr_set_one,y_train)\n",
        "y_train_probs = model_set2.predict_proba(X_tr_set_one)[:,1] # converting train and test output into probability\n",
        "y_test_probs= model_set2.predict_proba(X_te_set_one )[:,1]\n",
        "\n",
        "train_fpr, train_tpr, tr_thresholds = roc_curve(y_train, y_train_probs) # storing values of fpr and tpr\n",
        "test_fpr, test_tpr, te_thresholds = roc_curve(y_test, y_test_probs)\n",
        "\n",
        "plt.figure(figsize=(12,8))\n",
        "plt.plot(train_fpr, train_tpr, label=\"Train AUC =\"+str(auc(train_fpr, train_tpr)))\n",
        "plt.plot(test_fpr, test_tpr, label=\"Test AUC =\"+str(auc(test_fpr, test_tpr)))\n",
        "plt.legend()\n",
        "plt.xlabel(\"False Positive Rate(FPR)\")\n",
        "plt.ylabel(\"True Positive Rate(TPR)\")\n",
        "plt.title(\"ROC CURVE\")\n",
        "plt.grid(color='black',lw=0.5)"
      ],
      "execution_count": 0,
      "outputs": [
        {
          "output_type": "display_data",
          "data": {
            "image/png": "[encoded data removed]",
            "text/plain": [
              "<Figure size 864x576 with 1 Axes>"
            ]
          },
          "metadata": {
            "tags": [],
            "needs_background": "light"
          }
        }
      ]
    },
    {
      "cell_type": "markdown",
      "metadata": {
        "id": "NqFCb2TL2sTu",
        "colab_type": "text"
      },
      "source": [
        "### Confusion Matrix"
      ]
    },
    {
      "cell_type": "code",
      "metadata": {
        "id": "crqRD0Xm2tM1",
        "colab_type": "code",
        "colab": {}
      },
      "source": [
        "def find_best_threshold(threshould, fpr, tpr):\n",
        "    t = threshould[np.argmax(tpr*(1-fpr))]\n",
        "    # (tpr*(1-fpr)) will be maximum if your fpr is very low and tpr is very high\n",
        "    print(\"the maximum value of tpr*(1-fpr)\", max(tpr*(1-fpr)), \"for threshold\", np.round(t,3))\n",
        "    return t\n",
        "\n",
        "def predict_with_best_t(proba, threshould):\n",
        "    predictions = []\n",
        "    for i in proba:\n",
        "        if i>=threshould:\n",
        "            predictions.append(1)\n",
        "        else:\n",
        "            predictions.append(0)\n",
        "    return predictions"
      ],
      "execution_count": 0,
      "outputs": []
    },
    {
      "cell_type": "markdown",
      "metadata": {
        "id": "Ck-pyiql2x_A",
        "colab_type": "text"
      },
      "source": [
        "#### Train Data"
      ]
    },
    {
      "cell_type": "code",
      "metadata": {
        "id": "S_sL_nVp25t8",
        "colab_type": "code",
        "outputId": "66035a1a-9f37-4688-d16f-8a05629a897b",
        "colab": {
          "base_uri": "https://localhost:8080/",
          "height": 422
        }
      },
      "source": [
        "best_t = find_best_threshold(tr_thresholds, train_fpr, train_tpr)\n",
        "cm=metrics.confusion_matrix(y_train,predict_with_best_t(y_train_probs, best_t))  # https://stackoverflow.com/questions/35572000/how-can-i-plot-a-confusion-matrix\n",
        "\n",
        "print(\"CONFUSION MATRIX OF TRAIN DATA\")\n",
        "print(\"\\n\")\n",
        "print(cm)\n",
        "sns.heatmap(cm, annot=True, fmt='d',cmap='GnBu',annot_kws = {\"size\":16})\n",
        "plt.ylabel('True Label',size=12)\n",
        "plt.xlabel('Predicted Label',size=12)\n",
        "plt.title('Train Data Confusion Matrix',size=12)"
      ],
      "execution_count": 0,
      "outputs": [
        {
          "output_type": "stream",
          "text": [
            "the maximum value of tpr*(1-fpr) 0.4277456121087118 for threshold 0.846\n",
            "CONFUSION MATRIX OF TRAIN DATA\n",
            "\n",
            "\n",
            "[[ 7046  4037]\n",
            " [20322 41791]]\n"
          ],
          "name": "stdout"
        },
        {
          "output_type": "execute_result",
          "data": {
            "text/plain": [
              "Text(0.5, 1.0, 'Train Data Confusion Matrix')"
            ]
          },
          "metadata": {
            "tags": []
          },
          "execution_count": 121
        },
        {
          "output_type": "display_data",
          "data": {
            "image/png": "[encoded data removed]",
            "text/plain": [
              "<Figure size 432x288 with 2 Axes>"
            ]
          },
          "metadata": {
            "tags": [],
            "needs_background": "light"
          }
        }
      ]
    },
    {
      "cell_type": "markdown",
      "metadata": {
        "id": "BtLrduq63AVE",
        "colab_type": "text"
      },
      "source": [
        "\n",
        "\n",
        "####  Test Data"
      ]
    },
    {
      "cell_type": "code",
      "metadata": {
        "id": "_Wu9rYAb3ClK",
        "colab_type": "code",
        "outputId": "33d7bb7a-5c69-4f3d-80a4-5eff96265518",
        "colab": {
          "base_uri": "https://localhost:8080/",
          "height": 422
        }
      },
      "source": [
        "best_t = find_best_threshold(te_thresholds, test_fpr, test_tpr)\n",
        "cm=metrics.confusion_matrix(y_test,predict_with_best_t(y_test_probs, best_t))\n",
        "  \n",
        "print(\"CONFUSION MATRIX OF TEST DATA\")\n",
        "print('\\n')\n",
        "print(cm)\n",
        "sns.heatmap(cm, annot=True, fmt='d',cmap='GnBu',annot_kws = {\"size\":16})\n",
        "plt.ylabel('True Label',size=12)\n",
        "plt.xlabel('Predicted Label',size=12)\n",
        "plt.title('Test Data Confusion Matrix',size=12)"
      ],
      "execution_count": 0,
      "outputs": [
        {
          "output_type": "stream",
          "text": [
            "the maximum value of tpr*(1-fpr) 0.3933525387742744 for threshold 0.85\n",
            "CONFUSION MATRIX OF TEST DATA\n",
            "\n",
            "\n",
            "[[ 3537  1922]\n",
            " [12020 18573]]\n"
          ],
          "name": "stdout"
        },
        {
          "output_type": "execute_result",
          "data": {
            "text/plain": [
              "Text(0.5, 1.0, 'Test Data Confusion Matrix')"
            ]
          },
          "metadata": {
            "tags": []
          },
          "execution_count": 122
        },
        {
          "output_type": "display_data",
          "data": {
            "image/png": "[encoded data removed]",
            "text/plain": [
              "<Figure size 432x288 with 2 Axes>"
            ]
          },
          "metadata": {
            "tags": [],
            "needs_background": "light"
          }
        }
      ]
    },
    {
      "cell_type": "markdown",
      "metadata": {
        "id": "9c4rBWRB-W0w",
        "colab_type": "text"
      },
      "source": [
        "## Summary"
      ]
    },
    {
      "cell_type": "code",
      "metadata": {
        "id": "lY8O76oe-cCv",
        "colab_type": "code",
        "colab": {
          "base_uri": "https://localhost:8080/",
          "height": 141
        },
        "outputId": "c79ed1c2-59c6-42ab-e77d-7288a814eb51"
      },
      "source": [
        "from prettytable import PrettyTable\n",
        "from prettytable import ALL as ALL\n",
        "table=PrettyTable(hrules=ALL)\n",
        "table.field_names = [ \"Sl.N0\",\"Vectorizer\", \"Model\", \"Hyper Parameter\", \"Test-AUC\"] # # http://zetcode.com/python/prettytable/\n",
        "table.add_row([1,\"TFIDF\", \"GRADIENT BOOSTING CLASSIFIER\", \"max_depth =4 , n_estimators=20\", 0.67515])\n",
        "table.add_row([2,\"TFIDF W2V\", \"GRADIENT BOOSTING CLASSIFIER\",\" max_depth =4 , n_estimators=20\", 0.67517])\n",
        "print(table)"
      ],
      "execution_count": 26,
      "outputs": [
        {
          "output_type": "stream",
          "text": [
            "+-------+------------+------------------------------+---------------------------------+----------+\n",
            "| Sl.N0 | Vectorizer |            Model             |         Hyper Parameter         | Test-AUC |\n",
            "+-------+------------+------------------------------+---------------------------------+----------+\n",
            "|   1   |   TFIDF    | GRADIENT BOOSTING CLASSIFIER |  max_depth =4 , n_estimators=20 | 0.67515  |\n",
            "+-------+------------+------------------------------+---------------------------------+----------+\n",
            "|   2   | TFIDF W2V  | GRADIENT BOOSTING CLASSIFIER |  max_depth =4 , n_estimators=20 | 0.67517  |\n",
            "+-------+------------+------------------------------+---------------------------------+----------+\n"
          ],
          "name": "stdout"
        }
      ]
    },
    {
      "cell_type": "code",
      "metadata": {
        "id": "auEyPB3s_WdF",
        "colab_type": "code",
        "colab": {}
      },
      "source": [
        ""
      ],
      "execution_count": 0,
      "outputs": []
    }
  ]
}