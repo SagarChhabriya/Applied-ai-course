{
 "cells": [
  {
   "cell_type": "markdown",
   "metadata": {},
   "source": [
    "<h2 align=\"center\">8_F</h2> \n"
   ]
  },
  {
   "cell_type": "markdown",
   "metadata": {},
   "source": [
    "### Importing the libraries"
   ]
  },
  {
   "cell_type": "code",
   "execution_count": 2,
   "metadata": {},
   "outputs": [],
   "source": [
    "import numpy as np\n",
    "import math as m\n",
    "import pandas as pd\n",
    "from sklearn.datasets import make_classification\n",
    "import numpy as np\n",
    "from sklearn.svm import SVC\n",
    "from sklearn.cross_validation import train_test_split\n",
    "import warnings\n",
    "warnings.filterwarnings('ignore')\n",
    "from sklearn import linear_model\n",
    "import warnings\n",
    "warnings.filterwarnings(\"ignore\")"
   ]
  },
  {
   "cell_type": "markdown",
   "metadata": {},
   "source": [
    "### creating dataset"
   ]
  },
  {
   "cell_type": "code",
   "execution_count": 3,
   "metadata": {},
   "outputs": [],
   "source": [
    "X, y = make_classification(n_samples=5000, n_features=5, n_redundant=2,\n",
    "                           n_classes=2, weights=[0.7], class_sep=0.7, random_state=15)"
   ]
  },
  {
   "cell_type": "code",
   "execution_count": 4,
   "metadata": {},
   "outputs": [],
   "source": [
    "x_train, x_test, y_train, y_test = train_test_split(X, y, test_size=0.20,random_state=15)"
   ]
  },
  {
   "cell_type": "code",
   "execution_count": 5,
   "metadata": {},
   "outputs": [],
   "source": [
    "x_train, x_cv, y_train, y_cv = train_test_split(x_train,y_train, test_size=0.25,random_state=15)"
   ]
  },
  {
   "cell_type": "code",
   "execution_count": 6,
   "metadata": {},
   "outputs": [],
   "source": [
    "rbf=SVC(kernel=\"rbf\",C=100,gamma=0.001)"
   ]
  },
  {
   "cell_type": "code",
   "execution_count": 7,
   "metadata": {},
   "outputs": [
    {
     "data": {
      "text/plain": [
       "SVC(C=100, cache_size=200, class_weight=None, coef0=0.0,\n",
       "  decision_function_shape='ovr', degree=3, gamma=0.001, kernel='rbf',\n",
       "  max_iter=-1, probability=False, random_state=None, shrinking=True,\n",
       "  tol=0.001, verbose=False)"
      ]
     },
     "execution_count": 7,
     "metadata": {},
     "output_type": "execute_result"
    }
   ],
   "source": [
    "rbf.fit(x_train,y_train)"
   ]
  },
  {
   "cell_type": "code",
   "execution_count": 8,
   "metadata": {},
   "outputs": [],
   "source": [
    "gamma=0.001"
   ]
  },
  {
   "cell_type": "code",
   "execution_count": 9,
   "metadata": {},
   "outputs": [],
   "source": [
    "sup_vecs=rbf.support_vectors_\n",
    "dual_coefs=rbf.dual_coef_\n",
    "intercept=rbf.intercept_"
   ]
  },
  {
   "cell_type": "code",
   "execution_count": 10,
   "metadata": {},
   "outputs": [],
   "source": [
    "def decision_function(x_cv,gamma):\n",
    "    \n",
    "    predict=[]\n",
    "    decision=[]\n",
    "    for xq in x_cv:\n",
    "        dec_func = 0\n",
    "        for j in range(len(sup_vecs)):\n",
    "             norm2 = np.linalg.norm(sup_vecs[j, :] -xq)**2  # calculating the kernel(K(xi,xq)\n",
    "             dec_func = dec_func + dual_coefs[0, j] * np.exp(-gamma*norm2) # calculating the sign\n",
    "        dec_func += intercept\n",
    "        decision.append(dec_func)\n",
    "        if (dec_func)<0:                ##https://stackoverflow.com/questions/28503932/calculating-decision-function-of-svm-manually\n",
    "            predict.append(0)\n",
    "        else:\n",
    "            predict.append(1)\n",
    "    return np.array(decision)                     "
   ]
  },
  {
   "cell_type": "code",
   "execution_count": 11,
   "metadata": {},
   "outputs": [],
   "source": [
    "f_cv=decision_function(x_cv,gamma) # calculating f_cv based on decision function"
   ]
  },
  {
   "cell_type": "code",
   "execution_count": 12,
   "metadata": {},
   "outputs": [],
   "source": [
    "def sigmoid(w,x,b):\n",
    "    return 1/(1+np.exp(-(np.dot(x,w.T)+b))) #return 1/1+e(-x)"
   ]
  },
  {
   "cell_type": "code",
   "execution_count": 13,
   "metadata": {},
   "outputs": [],
   "source": [
    "def logloss(w,x,y,b,reg=0):\n",
    "    val=sigmoid(w,x,b)\n",
    "    return -np.mean(y*np.log10(val)+(1-y)*np.log10(1-val))+reg  # cost function of logistic regression"
   ]
  },
  {
   "cell_type": "code",
   "execution_count": 14,
   "metadata": {},
   "outputs": [],
   "source": [
    "count_one=list(y_cv).count(1)\n",
    "count_zero=list(y_cv).count(0)      # calculating y+ and y_\n",
    "y_plus=(count_one+1)/(count_one+2)\n",
    "y_minize=1/(count_zero+2)"
   ]
  },
  {
   "cell_type": "code",
   "execution_count": 15,
   "metadata": {},
   "outputs": [],
   "source": [
    "def update(y_cv,y_plus,y_minize):\n",
    "    u_cv=[]\n",
    "    for point in y_cv:    # update function convert y_cv into y+,y_\n",
    "        if point==1:\n",
    "                u_cv.append(y_plus)\n",
    "        else:\n",
    "              u_cv.append(y_minize)\n",
    "    return(np.array(u_cv))              "
   ]
  },
  {
   "cell_type": "code",
   "execution_count": 16,
   "metadata": {},
   "outputs": [],
   "source": [
    "y_cv=update(y_cv,y_plus,y_minize)"
   ]
  },
  {
   "cell_type": "code",
   "execution_count": 17,
   "metadata": {},
   "outputs": [
    {
     "name": "stdout",
     "output_type": "stream",
     "text": [
      "1000\n",
      "1000\n"
     ]
    }
   ],
   "source": [
    "w = np.zeros_like(f_cv[0])# initial weight vector\n",
    "b = 0      # initial intercept value\n",
    "eta0  = 0.0001  # learning rate\n",
    "alpha = 0.0001 # lambda value\n",
    "N = len(f_cv)\n",
    "print(len(y_cv))\n",
    "print(N)"
   ]
  },
  {
   "cell_type": "code",
   "execution_count": 18,
   "metadata": {},
   "outputs": [
    {
     "name": "stdout",
     "output_type": "stream",
     "text": [
      "Initial log loss = 0.3010299956639812\n"
     ]
    }
   ],
   "source": [
    "ini=logloss(w,f_cv,y_cv,b)\n",
    "print(\"Initial log loss =\",ini)"
   ]
  },
  {
   "cell_type": "markdown",
   "metadata": {},
   "source": [
    "#### SGD alorithm for calculating optimal w and b"
   ]
  },
  {
   "cell_type": "code",
   "execution_count": 21,
   "metadata": {},
   "outputs": [],
   "source": [
    "def sgd_algo(f_cv,y_cv,eta0,alpha,w,b,epoch):\n",
    "    t=0.001 # tolerence\n",
    "    test_loss=[]\n",
    "    epoc=[]\n",
    "    for i in  range(0,epoch): \n",
    "        epoc.append(i)\n",
    "        for j in range(0,N):\n",
    "            reg=alpha/2*np.dot(w.T,w) #regulrization term\n",
    "            w = ((1-eta0*(alpha/N))*w)+((eta0*f_cv[j])*(y_cv[j]-sigmoid(w,f_cv[j],b))) # updating weight vector\n",
    "            b = b+(eta0*(y_cv[j]-sigmoid(w,f_cv[j],b)))       # updatind intercept    \n",
    "        test=logloss(w,f_cv,y_cv,b,reg)\n",
    "        test_loss.append(test)\n",
    "        if i<=t :\n",
    "            continue                                                                  \n",
    "            if abs(test_loss[i]-test_loss[i-1])>t: # block to check convergence \n",
    "                continue\n",
    "            else:\n",
    "                break \n",
    "    return w,b,epoc,test_loss"
   ]
  },
  {
   "cell_type": "code",
   "execution_count": 22,
   "metadata": {},
   "outputs": [
    {
     "name": "stdout",
     "output_type": "stream",
     "text": [
      "optimal weight =  [1.14038548]\n",
      "optimal intercept =  -0.16232803221227102\n"
     ]
    }
   ],
   "source": [
    "epoch=45\n",
    "we,be,epo,loss=sgd_algo(f_cv,y_cv,eta0, alpha,w,b,epoch)\n",
    "print(\"optimal weight = \",we)\n",
    "print(\"optimal intercept = \",be)\n"
   ]
  },
  {
   "cell_type": "code",
   "execution_count": 29,
   "metadata": {},
   "outputs": [
    {
     "data": {
      "text/plain": [
       "<matplotlib.legend.Legend at 0x20e2a17c2e8>"
      ]
     },
     "execution_count": 29,
     "metadata": {},
     "output_type": "execute_result"
    },
    {
     "data": {
      "image/png": "[encoded data removed]",
      "text/plain": [
       "<Figure size 576x432 with 1 Axes>"
      ]
     },
     "metadata": {},
     "output_type": "display_data"
    }
   ],
   "source": [
    "%matplotlib inline\n",
    "import matplotlib.pyplot as plt\n",
    "plt.figure(figsize=(8,6))\n",
    "plt.grid()\n",
    "plt.plot(epo,loss, label='test log loss')\n",
    "plt.scatter(epo,loss)\n",
    "plt.title('log loss curve of logistic regression')\n",
    "plt.xlabel('epoch number')\n",
    "plt.ylabel(\"log loss\")\n",
    "plt.legend()"
   ]
  },
  {
   "cell_type": "code",
   "execution_count": 21,
   "metadata": {},
   "outputs": [],
   "source": [
    "ftest=decision_function(x_test,gamma)"
   ]
  },
  {
   "cell_type": "code",
   "execution_count": 22,
   "metadata": {},
   "outputs": [],
   "source": [
    "def probability(ftest,w,b):\n",
    "    p=1/(1+np.exp(-w*ftest+b)) # to calculate probilty P(Y=1|X)\n",
    "    return p"
   ]
  },
  {
   "cell_type": "code",
   "execution_count": 23,
   "metadata": {},
   "outputs": [
    {
     "name": "stdout",
     "output_type": "stream",
     "text": [
      "[[0.23774793]\n",
      " [0.91674083]\n",
      " [0.26904252]\n",
      " [0.67529715]\n",
      " [0.00228871]\n",
      " [0.92508048]\n",
      " [0.18246605]\n",
      " [0.90426885]\n",
      " [0.18869581]\n",
      " [0.88038215]]\n"
     ]
    }
   ],
   "source": [
    "prob=probability(ftest,we,be)\n",
    "print(prob[:10])"
   ]
  }
 ],
 "metadata": {
  "kernelspec": {
   "display_name": "Python 3",
   "language": "python",
   "name": "python3"
  },
  "language_info": {
   "codemirror_mode": {
    "name": "ipython",
    "version": 3
   },
   "file_extension": ".py",
   "mimetype": "text/x-python",
   "name": "python",
   "nbconvert_exporter": "python",
   "pygments_lexer": "ipython3",
   "version": "3.6.5"
  }
 },
 "nbformat": 4,
 "nbformat_minor": 2
}
