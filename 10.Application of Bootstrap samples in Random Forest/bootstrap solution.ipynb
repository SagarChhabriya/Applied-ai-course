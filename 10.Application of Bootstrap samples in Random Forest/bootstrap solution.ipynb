{
 "cells": [
  {
   "cell_type": "markdown",
   "metadata": {},
   "source": [
    "### Importing The Libraries"
   ]
  },
  {
   "cell_type": "code",
   "execution_count": 50,
   "metadata": {},
   "outputs": [],
   "source": [
    "import numpy as np\n",
    "import pandas as pd\n",
    "from sklearn.datasets import load_boston\n",
    "from sklearn.metrics import mean_squared_error\n",
    "import random\n",
    "from sklearn.tree import DecisionTreeRegressor  \n",
    "from operator import add\n",
    "from scipy.sparse import hstack"
   ]
  },
  {
   "cell_type": "markdown",
   "metadata": {},
   "source": [
    "### Loading The Dataset"
   ]
  },
  {
   "cell_type": "code",
   "execution_count": 51,
   "metadata": {},
   "outputs": [],
   "source": [
    "boston = load_boston()\n",
    "x=boston.data #independent variables\n",
    "y=boston.target #target variable\n",
    "x=pd.DataFrame(x)"
   ]
  },
  {
   "cell_type": "code",
   "execution_count": 52,
   "metadata": {},
   "outputs": [
    {
     "data": {
      "text/html": [
       "<div>\n",
       "<style scoped>\n",
       "    .dataframe tbody tr th:only-of-type {\n",
       "        vertical-align: middle;\n",
       "    }\n",
       "\n",
       "    .dataframe tbody tr th {\n",
       "        vertical-align: top;\n",
       "    }\n",
       "\n",
       "    .dataframe thead th {\n",
       "        text-align: right;\n",
       "    }\n",
       "</style>\n",
       "<table border=\"1\" class=\"dataframe\">\n",
       "  <thead>\n",
       "    <tr style=\"text-align: right;\">\n",
       "      <th></th>\n",
       "      <th>0</th>\n",
       "      <th>1</th>\n",
       "      <th>2</th>\n",
       "      <th>3</th>\n",
       "      <th>4</th>\n",
       "      <th>5</th>\n",
       "      <th>6</th>\n",
       "      <th>7</th>\n",
       "      <th>8</th>\n",
       "      <th>9</th>\n",
       "      <th>10</th>\n",
       "      <th>11</th>\n",
       "      <th>12</th>\n",
       "    </tr>\n",
       "  </thead>\n",
       "  <tbody>\n",
       "    <tr>\n",
       "      <th>0</th>\n",
       "      <td>0.00632</td>\n",
       "      <td>18.0</td>\n",
       "      <td>2.31</td>\n",
       "      <td>0.0</td>\n",
       "      <td>0.538</td>\n",
       "      <td>6.575</td>\n",
       "      <td>65.2</td>\n",
       "      <td>4.0900</td>\n",
       "      <td>1.0</td>\n",
       "      <td>296.0</td>\n",
       "      <td>15.3</td>\n",
       "      <td>396.9</td>\n",
       "      <td>4.98</td>\n",
       "    </tr>\n",
       "    <tr>\n",
       "      <th>1</th>\n",
       "      <td>0.02731</td>\n",
       "      <td>0.0</td>\n",
       "      <td>7.07</td>\n",
       "      <td>0.0</td>\n",
       "      <td>0.469</td>\n",
       "      <td>6.421</td>\n",
       "      <td>78.9</td>\n",
       "      <td>4.9671</td>\n",
       "      <td>2.0</td>\n",
       "      <td>242.0</td>\n",
       "      <td>17.8</td>\n",
       "      <td>396.9</td>\n",
       "      <td>9.14</td>\n",
       "    </tr>\n",
       "  </tbody>\n",
       "</table>\n",
       "</div>"
      ],
      "text/plain": [
       "        0     1     2    3      4      5     6       7    8      9     10  \\\n",
       "0  0.00632  18.0  2.31  0.0  0.538  6.575  65.2  4.0900  1.0  296.0  15.3   \n",
       "1  0.02731   0.0  7.07  0.0  0.469  6.421  78.9  4.9671  2.0  242.0  17.8   \n",
       "\n",
       "      11    12  \n",
       "0  396.9  4.98  \n",
       "1  396.9  9.14  "
      ]
     },
     "execution_count": 52,
     "metadata": {},
     "output_type": "execute_result"
    }
   ],
   "source": [
    "x.head(2)"
   ]
  },
  {
   "cell_type": "markdown",
   "metadata": {},
   "source": [
    "## Task -1"
   ]
  },
  {
   "cell_type": "code",
   "execution_count": 54,
   "metadata": {},
   "outputs": [],
   "source": [
    "def bagging(x,y):\n",
    "    index=[] #used for storing indices of points used for fitting\n",
    "    prediction_model=[] # used for storing prediction of each model\n",
    "    oob_pred=[]\n",
    "    pred=[0]* 506\n",
    "    for i in range(0,30):\n",
    "        k=np.random.choice(506,size=303,replace=False) # generating 60% of points randomly\n",
    "        p=np.random.choice(k,size=203,replace=True) #  generating 40% of points randomly \n",
    "        rs=np.hstack((k,p))                         # from already generated 60% points\n",
    "        index.append(rs)\n",
    "        data=x.iloc[rs]\n",
    "        col=random.randint(3,13) #randomy selecting the columns based on randint generator\n",
    "        x_data=data.sample(col, axis=1)\n",
    "        y_data=y[rs]\n",
    "        model=DecisionTreeRegressor()\n",
    "        model.fit(x_data,y_data) # fitting the model\n",
    "        p=model.predict(x[x_data.columns]) \n",
    "        prediction_model.append(p)\n",
    "        pred=list( map(add, pred, p) )\n",
    "    prediction= [x / 30 for x in pred] \n",
    "    mse=mean_squared_error(y,prediction) # calculating mean score error\n",
    "    \n",
    "    for j in range(506):\n",
    "        count=0\n",
    "        value=0\n",
    "        for k in range(30):\n",
    "            if j not in index[k]: # checking whether the point  it is used for fitting\n",
    "                value=value+prediction_model[k][j] # if not it is used for oob score calculation\n",
    "                count=count+1\n",
    "        oob_pred.append(value/count)\n",
    "    oob=mean_squared_error(y,oob_pred) # oob score calculation\n",
    "    return mse,oob"
   ]
  },
  {
   "cell_type": "code",
   "execution_count": 55,
   "metadata": {},
   "outputs": [
    {
     "name": "stdout",
     "output_type": "stream",
     "text": [
      "MEAN SCORE ERROR:  2.151415053938947\n",
      "OOB SCORE ERROR:  12.619826128479742\n"
     ]
    }
   ],
   "source": [
    "mse,oob=bagging(x,y)\n",
    "print(\"MEAN SCORE ERROR: \",mse)\n",
    "print(\"OOB SCORE ERROR: \",oob)"
   ]
  },
  {
   "cell_type": "markdown",
   "metadata": {},
   "source": [
    "## Task - 2"
   ]
  },
  {
   "cell_type": "code",
   "execution_count": 56,
   "metadata": {},
   "outputs": [],
   "source": [
    "mse_scores=[]\n",
    "oob_scores=[]\n",
    "for k in range(35):\n",
    "    mse,oob=bagging(x,y)\n",
    "    mse_scores.append(mse)\n",
    "    oob_scores.append(oob)"
   ]
  },
  {
   "cell_type": "code",
   "execution_count": 57,
   "metadata": {},
   "outputs": [],
   "source": [
    "mse=np.array(mse_scores)\n",
    "oob=np.array(oob_scores)"
   ]
  },
  {
   "cell_type": "code",
   "execution_count": 58,
   "metadata": {},
   "outputs": [],
   "source": [
    "def ci(data):\n",
    "    \" calculating the confidence interval \"\n",
    "    mean=data.mean()\n",
    "    std=data.std()\n",
    "    size=len(data)\n",
    "    left_limit  = np.round(mean - 2*(std/np.sqrt(size)), 3) \n",
    "    right_limit = np.round(mean + 2*(std/np.sqrt(size)), 3)\n",
    "    return left_limit,right_limit"
   ]
  },
  {
   "cell_type": "code",
   "execution_count": 59,
   "metadata": {},
   "outputs": [
    {
     "name": "stdout",
     "output_type": "stream",
     "text": [
      "Confidence Interval Of MSE :[2.267 ,2.479]\n"
     ]
    }
   ],
   "source": [
    "left,right=ci(mse)\n",
    "print(\"Confidence Interval Of MSE :[{} ,{}]\" .format(left,right))"
   ]
  },
  {
   "cell_type": "code",
   "execution_count": 60,
   "metadata": {},
   "outputs": [
    {
     "name": "stdout",
     "output_type": "stream",
     "text": [
      "Confidence Interval Of OOB :[13.343 ,14.151]\n"
     ]
    }
   ],
   "source": [
    "left,right=ci(oob)\n",
    "print(\"Confidence Interval Of OOB :[{} ,{}]\" .format(left,right))"
   ]
  },
  {
   "cell_type": "markdown",
   "metadata": {},
   "source": [
    "## Task -3"
   ]
  },
  {
   "cell_type": "code",
   "execution_count": 61,
   "metadata": {},
   "outputs": [],
   "source": [
    "def predict(xq):\n",
    "    final=0\n",
    "    for i in range(0,30):\n",
    "        query=[]\n",
    "        k=np.random.choice(506,size=303,replace=False)\n",
    "        p=np.random.choice(k,size=203,replace=True)\n",
    "        rs=np.hstack((k,p))\n",
    "        data=x.iloc[rs]\n",
    "        col=random.randint(3,13)\n",
    "        x_data=data.sample(col, axis=1)\n",
    "        y_data=y[rs]\n",
    "        model=DecisionTreeRegressor()\n",
    "        model.fit(x_data,y_data)\n",
    "        slic= x_data.columns\n",
    "        query=[xq[i] for i in slic]\n",
    "        query=np.array(query).reshape(1,-1)\n",
    "        p=model.predict(query)\n",
    "        final=final+p\n",
    "    final=final/30    \n",
    "    return (final[0])    "
   ]
  },
  {
   "cell_type": "code",
   "execution_count": 62,
   "metadata": {},
   "outputs": [],
   "source": [
    "xq= [0.18,20.0,5.00,0.0,0.421,5.60,72.2,7.95,7.0,30.0,19.1,372.13,18.60]"
   ]
  },
  {
   "cell_type": "code",
   "execution_count": 63,
   "metadata": {},
   "outputs": [
    {
     "data": {
      "text/plain": [
       "21.23888888888889"
      ]
     },
     "execution_count": 63,
     "metadata": {},
     "output_type": "execute_result"
    }
   ],
   "source": [
    "predict(xq)"
   ]
  }
 ],
 "metadata": {
  "kernelspec": {
   "display_name": "Python 3",
   "language": "python",
   "name": "python3"
  },
  "language_info": {
   "codemirror_mode": {
    "name": "ipython",
    "version": 3
   },
   "file_extension": ".py",
   "mimetype": "text/x-python",
   "name": "python",
   "nbconvert_exporter": "python",
   "pygments_lexer": "ipython3",
   "version": "3.6.5"
  }
 },
 "nbformat": 4,
 "nbformat_minor": 2
}
