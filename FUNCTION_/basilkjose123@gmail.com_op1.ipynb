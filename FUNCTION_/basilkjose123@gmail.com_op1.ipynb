{
 "cells": [
  {
   "cell_type": "markdown",
   "metadata": {},
   "source": [
    "#### 1) MULTIPLICATION TABLE OF ANUMBER"
   ]
  },
  {
   "cell_type": "code",
   "execution_count": 1,
   "metadata": {},
   "outputs": [
    {
     "name": "stdout",
     "output_type": "stream",
     "text": [
      "enter number of terms required10\n",
      "MULTIPLICATION TABLE OF 3\n",
      "1 * 3 = 3\n",
      "2 * 3 = 6\n",
      "3 * 3 = 9\n",
      "4 * 3 = 12\n",
      "5 * 3 = 15\n",
      "6 * 3 = 18\n",
      "7 * 3 = 21\n",
      "8 * 3 = 24\n",
      "9 * 3 = 27\n",
      "10 * 3 = 30\n"
     ]
    }
   ],
   "source": [
    "def mul_table(num):\n",
    "    \"\"\"print multiplication table of given number\"\"\"\n",
    "    n=int(input(\"enter number of terms required\"))\n",
    "    print(\"MULTIPLICATION TABLE OF\",num)\n",
    "    for i in range(1,n+1):\n",
    "        print(\"{} * {} = {}\".format(i,num,i*num))\n",
    "mul_table(3)    "
   ]
  },
  {
   "cell_type": "markdown",
   "metadata": {},
   "source": [
    "#### 2)TWIN PRIMES BELOW 1000"
   ]
  },
  {
   "cell_type": "code",
   "execution_count": 21,
   "metadata": {},
   "outputs": [
    {
     "name": "stdout",
     "output_type": "stream",
     "text": [
      "3 and 5\n",
      "5 and 7\n",
      "11 and 13\n",
      "17 and 19\n",
      "29 and 31\n",
      "41 and 43\n",
      "59 and 61\n",
      "71 and 73\n"
     ]
    }
   ],
   "source": [
    "b=[]\n",
    "for num in range(1,100 + 1):\n",
    "    if num > 2:\n",
    "        for i in range(2,num):\n",
    "            if (num % i) == 0:\n",
    "                break\n",
    "        else:\n",
    "            b.append(num)\n",
    "for i in range(0,len(b)-1):\n",
    "    if(b[i+1]-b[i]==2):\n",
    "        print(b[i],'and',b[i+1])\n",
    "    "
   ]
  },
  {
   "cell_type": "markdown",
   "metadata": {},
   "source": [
    "### 3) prime factors of a number"
   ]
  },
  {
   "cell_type": "code",
   "execution_count": 32,
   "metadata": {},
   "outputs": [
    {
     "name": "stdout",
     "output_type": "stream",
     "text": [
      "the prime factors are [2, 2, 2, 7]\n"
     ]
    }
   ],
   "source": [
    "def prime_factor(n):\n",
    "    \"\"\"returns a list of prime factors of n\"\"\"\n",
    "    i=2\n",
    "    factors=[]\n",
    "    while n>1:\n",
    "        if n%i==0:\n",
    "            factors.append(i)\n",
    "            n=n//i\n",
    "        else:\n",
    "            i=+i\n",
    "    return factors \n",
    "result=prime_factors(56)\n",
    "print(\"the prime factors are\",result)"
   ]
  },
  {
   "cell_type": "markdown",
   "metadata": {},
   "source": [
    "# 4) permutation and combination"
   ]
  },
  {
   "cell_type": "code",
   "execution_count": 2,
   "metadata": {},
   "outputs": [],
   "source": [
    "def factorial(n):\n",
    "    fact=1\n",
    "    for i in  range(1,n+1):\n",
    "        fact=fact*i\n",
    "    return fact    \n",
    "\n",
    "def permutation(n,r):\n",
    "    permutation=factorial(n)/factorial(n-r)\n",
    "    return permutation\n",
    "\n",
    " \n",
    "def combination(n,r):\n",
    "    combination=permutation(n,r)/factorial(r)\n",
    "    return combination\n",
    "   \n"
   ]
  },
  {
   "cell_type": "code",
   "execution_count": 3,
   "metadata": {},
   "outputs": [
    {
     "data": {
      "text/plain": [
       "60.0"
      ]
     },
     "execution_count": 3,
     "metadata": {},
     "output_type": "execute_result"
    }
   ],
   "source": [
    "permutation(5,3)"
   ]
  },
  {
   "cell_type": "code",
   "execution_count": 4,
   "metadata": {},
   "outputs": [
    {
     "data": {
      "text/plain": [
       "10.0"
      ]
     },
     "execution_count": 4,
     "metadata": {},
     "output_type": "execute_result"
    }
   ],
   "source": [
    "combination(5,3)"
   ]
  },
  {
   "cell_type": "markdown",
   "metadata": {},
   "source": [
    "### 5) decimal to binary conversion"
   ]
  },
  {
   "cell_type": "code",
   "execution_count": 5,
   "metadata": {},
   "outputs": [
    {
     "name": "stdout",
     "output_type": "stream",
     "text": [
      "1 1 1 0 0 0 "
     ]
    }
   ],
   "source": [
    "def dectobin(n):\n",
    "    \"\"\"convert decimal number to binary using recursion\"\"\"\n",
    "    if n>1:\n",
    "        dectobin(n//2)\n",
    "    print(n%2,end=\" \")\n",
    "dectobin(56)        "
   ]
  },
  {
   "cell_type": "markdown",
   "metadata": {},
   "source": [
    "### 6) cubesum() , PrintArmstrong() and isArmstrong() "
   ]
  },
  {
   "cell_type": "code",
   "execution_count": 6,
   "metadata": {},
   "outputs": [
    {
     "data": {
      "text/plain": [
       "153"
      ]
     },
     "execution_count": 6,
     "metadata": {},
     "output_type": "execute_result"
    }
   ],
   "source": [
    "def cubesum(n):\n",
    "    sum=0\n",
    "    while n>0:\n",
    "        r=n%10\n",
    "        sum=sum+r*r*r\n",
    "        n=n//10\n",
    "    return sum    \n",
    "    print(sum)   \n",
    "cubesum(153)    "
   ]
  },
  {
   "cell_type": "code",
   "execution_count": 7,
   "metadata": {},
   "outputs": [
    {
     "name": "stdout",
     "output_type": "stream",
     "text": [
      "1\n",
      "153\n",
      "370\n",
      "371\n",
      "407\n"
     ]
    }
   ],
   "source": [
    "def  printamstrong(start,end):\n",
    "    for i in  range(start,end+1):\n",
    "        s=cubesum(i)\n",
    "        if s==i:\n",
    "            print(s)\n",
    "printamstrong(1,500)        "
   ]
  },
  {
   "cell_type": "code",
   "execution_count": 4,
   "metadata": {},
   "outputs": [
    {
     "name": "stdout",
     "output_type": "stream",
     "text": [
      "it is not amstrong\n"
     ]
    }
   ],
   "source": [
    "def isamstrong(number):\n",
    "    s=cubesum(number)\n",
    "    if s==number:\n",
    "        print(\"it is amstrong\")\n",
    "    else:\n",
    "        print(\"it is not amstrong\")\n",
    "isamstrong(1634)    "
   ]
  },
  {
   "cell_type": "markdown",
   "metadata": {},
   "source": [
    "### 7) product of digits of given number"
   ]
  },
  {
   "cell_type": "code",
   "execution_count": 10,
   "metadata": {},
   "outputs": [
    {
     "data": {
      "text/plain": [
       "15"
      ]
     },
     "execution_count": 10,
     "metadata": {},
     "output_type": "execute_result"
    }
   ],
   "source": [
    "def proddigits(n):\n",
    "    \"\"\"return product of digits of given number\"\"\"\n",
    "    mul=1\n",
    "    while n>1:\n",
    "        r=n%10\n",
    "        mul=mul*r\n",
    "        n=n//10\n",
    "    return(mul)    \n",
    "proddigits(153)  "
   ]
  },
  {
   "cell_type": "markdown",
   "metadata": {},
   "source": [
    "# 8) to calculate multiplicative digital root and multiplicative persistence"
   ]
  },
  {
   "cell_type": "code",
   "execution_count": 116,
   "metadata": {},
   "outputs": [
    {
     "name": "stdout",
     "output_type": "stream",
     "text": [
      "enter the number86\n",
      "multiplicative digital root  =  6\n",
      "multiplicative persistence =  3\n"
     ]
    }
   ],
   "source": [
    "count=1\n",
    "def mdr(n):\n",
    "    global count\n",
    "    s=proddigits(n)\n",
    "    while s>9:\n",
    "        count=count+1\n",
    "        s=proddigits(s)\n",
    "    print(\"multiplicative digital root  = \",s)\n",
    " \n",
    "def mr():\n",
    "    print(\"multiplicative persistence = \",count)\n",
    "n=int(input(\"enter the number\"))\n",
    "mdr(n)\n",
    "mr()\n"
   ]
  },
  {
   "cell_type": "markdown",
   "metadata": {},
   "source": [
    "### 9 )sum of proper divisors of given number"
   ]
  },
  {
   "cell_type": "code",
   "execution_count": 12,
   "metadata": {},
   "outputs": [
    {
     "name": "stdout",
     "output_type": "stream",
     "text": [
      "enter the number36\n",
      "the sum of proper divisors of 36 = 55\n"
     ]
    }
   ],
   "source": [
    "def sumpdivisors(n):\n",
    "    \"\"\"sum of proper divisors of given number\"\"\"\n",
    "    sum=0\n",
    "    for i in range(1,n):\n",
    "        if n%i==0:\n",
    "            sum+=i\n",
    "    return sum\n",
    "n=int(input(\"enter the number\"))\n",
    "result=sumpdivisors(n)\n",
    "print(\"the sum of proper divisors of {0} = {1}\".format(n,result))    "
   ]
  },
  {
   "cell_type": "markdown",
   "metadata": {},
   "source": [
    "### 10) perfect numbers in a range "
   ]
  },
  {
   "cell_type": "code",
   "execution_count": 19,
   "metadata": {},
   "outputs": [
    {
     "name": "stdout",
     "output_type": "stream",
     "text": [
      "6\n",
      "28\n",
      "496\n",
      "8128\n"
     ]
    }
   ],
   "source": [
    "def perfectnumber(start,end):\n",
    "    \"\"\"return the perfect numbers on given range\"\"\"\n",
    "    for i in range(start,end+1):\n",
    "        sum=0\n",
    "        for j in range(1,i):\n",
    "            if i%j==0:\n",
    "                sum+=j\n",
    "        if i==sum:\n",
    "            print(i)\n",
    "perfectnumber(1,8500)            \n"
   ]
  },
  {
   "cell_type": "markdown",
   "metadata": {},
   "source": [
    "### 11) Amicable numbers between a range"
   ]
  },
  {
   "cell_type": "code",
   "execution_count": 16,
   "metadata": {},
   "outputs": [
    {
     "name": "stdout",
     "output_type": "stream",
     "text": [
      "enter the start limit1\n",
      "enter the end limit1000\n",
      "220 and  284\n",
      "284 and  220\n"
     ]
    }
   ],
   "source": [
    "def sumofdiv(x):\n",
    "    \"\"\"Amicable numbers in a range\"\"\"\n",
    "    sum=1\n",
    "    for i in range(2,x):\n",
    "        if x%i==0:\n",
    "            sum+=i\n",
    "    return sum \n",
    "start=int(input(\"enter the start limit\"))\n",
    "end=int(input('enter the end limit'))\n",
    "for num1 in range(start,end):\n",
    "    for num2 in range(start,end):\n",
    "         if (num1==sumofdiv(num2)) and (num2==sumofdiv(num1)) and (num1!=num2):\n",
    "                                      print(num1,  \"and \" ,num2)\n",
    "    "
   ]
  },
  {
   "cell_type": "markdown",
   "metadata": {},
   "source": [
    "these (11) program take more time to run and produce output . can you please suggest how to reduce complexity of the program"
   ]
  },
  {
   "cell_type": "markdown",
   "metadata": {},
   "source": [
    "### 12)"
   ]
  },
  {
   "cell_type": "code",
   "execution_count": 12,
   "metadata": {},
   "outputs": [
    {
     "data": {
      "text/plain": [
       "[1, 3, 5, 7, 9, 21, 23]"
      ]
     },
     "execution_count": 12,
     "metadata": {},
     "output_type": "execute_result"
    }
   ],
   "source": [
    "numbers=[2,1,3,4,5,6,7,8,9,20,21,23,34]\n",
    "list(filter(lambda x:x%2==1,numbers))"
   ]
  },
  {
   "cell_type": "markdown",
   "metadata": {},
   "source": [
    "### 13) "
   ]
  },
  {
   "cell_type": "code",
   "execution_count": 13,
   "metadata": {},
   "outputs": [
    {
     "data": {
      "text/plain": [
       "[8, 1, 27, 64, 125, 216, 343, 512, 729, 8000, 9261, 12167, 39304]"
      ]
     },
     "execution_count": 13,
     "metadata": {},
     "output_type": "execute_result"
    }
   ],
   "source": [
    "list(map(lambda x:x**3,numbers))"
   ]
  },
  {
   "cell_type": "markdown",
   "metadata": {},
   "source": [
    "### 14)"
   ]
  },
  {
   "cell_type": "code",
   "execution_count": 14,
   "metadata": {},
   "outputs": [
    {
     "data": {
      "text/plain": [
       "[8, 64, 216, 512, 8000, 39304]"
      ]
     },
     "execution_count": 14,
     "metadata": {},
     "output_type": "execute_result"
    }
   ],
   "source": [
    "p=list(filter(lambda x:x%2==0,numbers))\n",
    "list(map(lambda x:x**3,p))"
   ]
  },
  {
   "cell_type": "code",
   "execution_count": 42,
   "metadata": {},
   "outputs": [],
   "source": []
  }
 ],
 "metadata": {
  "kernelspec": {
   "display_name": "Python 3",
   "language": "python",
   "name": "python3"
  },
  "language_info": {
   "codemirror_mode": {
    "name": "ipython",
    "version": 3
   },
   "file_extension": ".py",
   "mimetype": "text/x-python",
   "name": "python",
   "nbconvert_exporter": "python",
   "pygments_lexer": "ipython3",
   "version": "3.6.5"
  }
 },
 "nbformat": 4,
 "nbformat_minor": 2
}
