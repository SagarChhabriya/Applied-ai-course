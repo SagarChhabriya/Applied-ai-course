{
 "cells": [
  {
   "cell_type": "markdown",
   "metadata": {},
   "source": [
    "#### Importing the libraries"
   ]
  },
  {
   "cell_type": "code",
   "execution_count": 95,
   "metadata": {},
   "outputs": [],
   "source": [
    "import numpy as np\n",
    "import pandas as pd\n",
    "from sklearn.datasets import make_classification\n",
    "from sklearn.model_selection import train_test_split\n",
    "import math as m\n",
    "from sklearn import linear_model\n",
    "import warnings\n",
    "warnings.filterwarnings(\"ignore\")\n"
   ]
  },
  {
   "cell_type": "markdown",
   "metadata": {},
   "source": [
    "#### Splitting data into train and test"
   ]
  },
  {
   "cell_type": "code",
   "execution_count": 106,
   "metadata": {},
   "outputs": [],
   "source": [
    "X, y = make_classification(n_samples=50000, n_features=15, n_informative=10, n_redundant=5,\n",
    "                           n_classes=2, weights=[0.7], class_sep=0.7, random_state=15)"
   ]
  },
  {
   "cell_type": "code",
   "execution_count": 107,
   "metadata": {},
   "outputs": [],
   "source": [
    "X_train, X_test, y_train, y_test = train_test_split(X, y, test_size=0.25, random_state=15)"
   ]
  },
  {
   "cell_type": "code",
   "execution_count": 108,
   "metadata": {},
   "outputs": [
    {
     "data": {
      "text/plain": [
       "((37500, 15), (37500,), (12500, 15), (12500,))"
      ]
     },
     "execution_count": 108,
     "metadata": {},
     "output_type": "execute_result"
    }
   ],
   "source": [
    "X_train.shape, y_train.shape, X_test.shape, y_test.shape"
   ]
  },
  {
   "cell_type": "markdown",
   "metadata": {},
   "source": [
    "#### Intializing initial parameters"
   ]
  },
  {
   "cell_type": "code",
   "execution_count": 109,
   "metadata": {},
   "outputs": [],
   "source": [
    "w = np.zeros_like(X_train[0])# initial weight vector\n",
    "b = 0      # initial intercept value\n",
    "eta0  = 0.0001  # learning rate\n",
    "alpha = 0.0001 # lambda value\n",
    "N = len(X_train)"
   ]
  },
  {
   "cell_type": "code",
   "execution_count": 110,
   "metadata": {},
   "outputs": [],
   "source": [
    "def sigmoid(w,x,b):\n",
    "    return 1/(1+np.exp(-(np.dot(x,w.T)+b))) #return 1/1+e(-x)"
   ]
  },
  {
   "cell_type": "code",
   "execution_count": 111,
   "metadata": {},
   "outputs": [],
   "source": [
    "def logloss(w,x,y,b,reg=0):\n",
    "    val=sigmoid(w,x,b)\n",
    "    return -np.mean(y*np.log10(val)+(1-y)*np.log10(1-val))+reg  # cost function of logistic regression"
   ]
  },
  {
   "cell_type": "code",
   "execution_count": 112,
   "metadata": {},
   "outputs": [
    {
     "name": "stdout",
     "output_type": "stream",
     "text": [
      "INITIAL LOG LOSS:\n"
     ]
    },
    {
     "data": {
      "text/plain": [
       "0.3010299956639812"
      ]
     },
     "execution_count": 112,
     "metadata": {},
     "output_type": "execute_result"
    }
   ],
   "source": [
    "print(\"INITIAL LOG LOSS:\")\n",
    "logloss(w,X_train,y_train,b)"
   ]
  },
  {
   "cell_type": "markdown",
   "metadata": {},
   "source": [
    "#### SGD Alorithm"
   ]
  },
  {
   "cell_type": "code",
   "execution_count": 113,
   "metadata": {},
   "outputs": [],
   "source": [
    "def sgd_algo(x_train,y_train,x_test,y_test,eta0,alpha,w,b,epoch):\n",
    "    train_loss=[]\n",
    "    test_loss=[]\n",
    "    epoc=[]\n",
    "    for i in  range(0,epoch): \n",
    "        epoc.append(i)\n",
    "        for j in range(0,N):\n",
    "            reg=alpha/2*np.dot(w.T,w) #regulrization term\n",
    "            w = ((1-eta0*(alpha/N))*w)+((eta0*x_train[j])*(y_train[j]-sigmoid(w,x_train[j],b))) # updating weight vector\n",
    "            b = b+(eta0*(y_train[j]-sigmoid(w,x_train[j],b)))       # updatind intercept    \n",
    "        train=logloss(w,x_train,y_train,b,reg)\n",
    "        train_loss.append(train)    # calculating train and test loss for updated w,b on each epoch\n",
    "        test=logloss(w,x_test,y_test,b,reg)\n",
    "        test_loss.append(test)\n",
    "        \"\"\" \n",
    "       if i==0 :\n",
    "            continue                                              # block to check covergence\n",
    "        else:                                                     # but checking not getting optimium value as sklearn implementation\n",
    "            if abs(train_loss[i]-train_loss[i-1])>.001:\n",
    "                continue\n",
    "            else:\n",
    "                break\"\"\"\n",
    "    return w,b ,train_loss,test_loss,epoc"
   ]
  },
  {
   "cell_type": "code",
   "execution_count": 114,
   "metadata": {},
   "outputs": [],
   "source": [
    "epoch=6\n",
    "w,b,tr,te,epoc=sgd_algo(X_train,y_train,X_test,y_test,eta0, alpha,w,b,epoch)"
   ]
  },
  {
   "cell_type": "code",
   "execution_count": 115,
   "metadata": {},
   "outputs": [
    {
     "name": "stdout",
     "output_type": "stream",
     "text": [
      "optimal weight vector:\n",
      "\n",
      "\n",
      "[-0.40819512  0.18608803 -0.13873193  0.33720386 -0.19058573  0.55321631\n",
      " -0.44625706 -0.09550674  0.20929646  0.16027648  0.18715532  0.00822064\n",
      " -0.0701101   0.33795986  0.0206259 ]\n"
     ]
    }
   ],
   "source": [
    "print(\"optimal weight vector:\")\n",
    "print(\"\\n\")\n",
    "print(w)"
   ]
  },
  {
   "cell_type": "code",
   "execution_count": 116,
   "metadata": {},
   "outputs": [
    {
     "name": "stdout",
     "output_type": "stream",
     "text": [
      "optimal intercept value:\n",
      "\n",
      "\n",
      "-0.7613483856830058\n"
     ]
    }
   ],
   "source": [
    "print(\"optimal intercept value:\")\n",
    "print(\"\\n\")\n",
    "print(b)"
   ]
  },
  {
   "cell_type": "code",
   "execution_count": 120,
   "metadata": {},
   "outputs": [
    {
     "data": {
      "text/plain": [
       "<matplotlib.legend.Legend at 0x22f1df62f60>"
      ]
     },
     "execution_count": 120,
     "metadata": {},
     "output_type": "execute_result"
    },
    {
     "data": {
      "image/png": "[encoded data removed]",
      "text/plain": [
       "<Figure size 576x432 with 1 Axes>"
      ]
     },
     "metadata": {},
     "output_type": "display_data"
    }
   ],
   "source": [
    "%matplotlib inline\n",
    "import matplotlib.pyplot as plt\n",
    "plt.figure(figsize=(8,6))\n",
    "plt.grid()\n",
    "plt.plot(epoc,tr, label='tain log loss')\n",
    "plt.plot(epoc,te, label='test log loss')\n",
    "plt.scatter(epoc,tr)\n",
    "plt.scatter(epoc,te)\n",
    "plt.title('log loss curve of logistic regression')\n",
    "plt.legend()"
   ]
  },
  {
   "cell_type": "markdown",
   "metadata": {},
   "source": [
    "#### sklearn implementation"
   ]
  },
  {
   "cell_type": "code",
   "execution_count": 97,
   "metadata": {},
   "outputs": [
    {
     "name": "stdout",
     "output_type": "stream",
     "text": [
      "-- Epoch 1\n",
      "Norm: 0.76, NNZs: 15, Bias: -0.314605, T: 37500, Avg. loss: 0.455801\n",
      "Total training time: 0.02 seconds.\n",
      "-- Epoch 2\n",
      "Norm: 0.92, NNZs: 15, Bias: -0.469578, T: 75000, Avg. loss: 0.394737\n",
      "Total training time: 0.04 seconds.\n",
      "-- Epoch 3\n",
      "Norm: 0.98, NNZs: 15, Bias: -0.580452, T: 112500, Avg. loss: 0.385561\n",
      "Total training time: 0.06 seconds.\n",
      "-- Epoch 4\n",
      "Norm: 1.02, NNZs: 15, Bias: -0.660824, T: 150000, Avg. loss: 0.382161\n",
      "Total training time: 0.08 seconds.\n",
      "-- Epoch 5\n",
      "Norm: 1.04, NNZs: 15, Bias: -0.717218, T: 187500, Avg. loss: 0.380474\n",
      "Total training time: 0.11 seconds.\n",
      "-- Epoch 6\n",
      "Norm: 1.06, NNZs: 15, Bias: -0.761816, T: 225000, Avg. loss: 0.379481\n",
      "Total training time: 0.13 seconds.\n",
      "Convergence after 6 epochs took 0.13 seconds\n"
     ]
    },
    {
     "data": {
      "text/plain": [
       "SGDClassifier(alpha=0.0001, average=False, class_weight=None, epsilon=0.1,\n",
       "       eta0=0.0001, fit_intercept=True, l1_ratio=0.15,\n",
       "       learning_rate='constant', loss='log', max_iter=None, n_iter=None,\n",
       "       n_jobs=1, penalty='l2', power_t=0.5, random_state=15, shuffle=True,\n",
       "       tol=0.001, verbose=2, warm_start=False)"
      ]
     },
     "execution_count": 97,
     "metadata": {},
     "output_type": "execute_result"
    }
   ],
   "source": [
    "clf = linear_model.SGDClassifier(eta0=0.0001, alpha=0.0001, loss='log', random_state=15, penalty='l2', tol=.001, verbose=2, learning_rate='constant')\n",
    "clf.fit(X=X_train, y=y_train)"
   ]
  },
  {
   "cell_type": "code",
   "execution_count": 100,
   "metadata": {},
   "outputs": [
    {
     "data": {
      "text/plain": [
       "array([[-0.41177431,  0.18416782, -0.13895073,  0.33572511, -0.18423237,\n",
       "         0.5494352 , -0.45213692, -0.08857465,  0.21536661,  0.17351757,\n",
       "         0.18480827,  0.00443463, -0.07033001,  0.33683181,  0.02004129]])"
      ]
     },
     "execution_count": 100,
     "metadata": {},
     "output_type": "execute_result"
    }
   ],
   "source": [
    "clf.coef_"
   ]
  },
  {
   "cell_type": "code",
   "execution_count": 99,
   "metadata": {},
   "outputs": [
    {
     "data": {
      "text/plain": [
       "array([[-0.0035792 , -0.00192022, -0.0002188 , -0.00147875,  0.00635336,\n",
       "        -0.0037811 , -0.00587986,  0.00693208,  0.00607015,  0.0132411 ,\n",
       "        -0.00234705, -0.00378601, -0.00021991, -0.00112805, -0.00058462]])"
      ]
     },
     "execution_count": 99,
     "metadata": {},
     "output_type": "execute_result"
    }
   ],
   "source": [
    "clf.coef_-w"
   ]
  },
  {
   "cell_type": "markdown",
   "metadata": {},
   "source": [
    "*  differnce between sklearn and custom implementation is almost  in terms of 10^-3"
   ]
  },
  {
   "cell_type": "code",
   "execution_count": 123,
   "metadata": {},
   "outputs": [
    {
     "name": "stdout",
     "output_type": "stream",
     "text": [
      "train accuracy :\n",
      "0.9617866666666667\n",
      "test accuracy :\n",
      "0.95952\n"
     ]
    }
   ],
   "source": [
    "def pred(w,b, X):\n",
    "    N = len(X)\n",
    "    predict = []\n",
    "    for i in range(N):\n",
    "        if sigmoid(w, X[i], b) >= 0.5: \n",
    "            predict.append(1)\n",
    "        else:\n",
    "            predict.append(0)\n",
    "    return np.array(predict)\n",
    "print(\"train accuracy :\")\n",
    "print(1-np.sum(y_train - pred(w,b,X_train))/len(X_train))\n",
    "print(\"test accuracy :\")\n",
    "print(1-np.sum(y_test  - pred(w,b,X_test))/len(X_test))"
   ]
  },
  {
   "cell_type": "code",
   "execution_count": null,
   "metadata": {},
   "outputs": [],
   "source": []
  }
 ],
 "metadata": {
  "kernelspec": {
   "display_name": "Python 3",
   "language": "python",
   "name": "python3"
  },
  "language_info": {
   "codemirror_mode": {
    "name": "ipython",
    "version": 3
   },
   "file_extension": ".py",
   "mimetype": "text/x-python",
   "name": "python",
   "nbconvert_exporter": "python",
   "pygments_lexer": "ipython3",
   "version": "3.6.5"
  }
 },
 "nbformat": 4,
 "nbformat_minor": 2
}
